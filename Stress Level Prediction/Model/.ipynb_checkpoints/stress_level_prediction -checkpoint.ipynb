{
 "cells": [
  {
   "cell_type": "markdown",
   "metadata": {
    "id": "DyS4wbfW707S"
   },
   "source": [
    "# **Stress Level Prediction**"
   ]
  },
  {
   "cell_type": "markdown",
   "metadata": {
    "id": "Wg-hgwasKroa"
   },
   "source": [
    "For Stress Level Prediction we will use 3 algorithms:\n",
    "\n",
    "1.Decision Tree Regressor\n",
    "\n",
    "2.Random Forest Regressor\n",
    "\n",
    "3.Ridge Regression\n",
    "\n",
    "By using the above algorithms, we will firstly explore the data that we have and check for any null or missing values. If found then we'll clean tha data and then visualize it for better understanding.Then we'll proceed by data training i.e. spliting data into training and testing data.Then train our model by providing training data and once the model will be trained, we will perform prediction. After prediction, we will evaluate the performance of these algorithmns by error check and accuracy check."
   ]
  },
  {
   "cell_type": "markdown",
   "metadata": {
    "id": "VepE87-sLZ1t"
   },
   "source": [
    "Steps followed are as:\n",
    "\n",
    "Step 1:Data Exploration\n",
    "\n",
    "Step 2: Data Cleaning\n",
    "\n",
    "Step 3: Data Visualization\n",
    "\n",
    "Step 4:Data Training\n",
    "\n",
    "Step 5: Model Creation\n",
    "\n",
    "Step 6: Performance Evaluation"
   ]
  },
  {
   "cell_type": "markdown",
   "metadata": {
    "id": "eLs_fm-N78MT"
   },
   "source": [
    "For the dataset being used [Click here](https://www.kaggle.com/shivamb/ideal-student-life-survey?select=survey_responses.csv)"
   ]
  },
  {
   "cell_type": "markdown",
   "metadata": {
    "id": "yNltly2Y80l4"
   },
   "source": [
    "## Data Exploration"
   ]
  },
  {
   "cell_type": "code",
   "execution_count": 1,
   "metadata": {
    "id": "7tmExTiS25aD"
   },
   "outputs": [],
   "source": [
    "import pandas as pd"
   ]
  },
  {
   "cell_type": "code",
   "execution_count": 2,
   "metadata": {
    "colab": {
     "base_uri": "https://localhost:8080/",
     "height": 853
    },
    "id": "6bGW5S4T87q2",
    "outputId": "622ef7db-8fec-49e6-c08c-09cc0885db1c"
   },
   "outputs": [
    {
     "data": {
      "text/html": [
       "<div>\n",
       "<style scoped>\n",
       "    .dataframe tbody tr th:only-of-type {\n",
       "        vertical-align: middle;\n",
       "    }\n",
       "\n",
       "    .dataframe tbody tr th {\n",
       "        vertical-align: top;\n",
       "    }\n",
       "\n",
       "    .dataframe thead th {\n",
       "        text-align: right;\n",
       "    }\n",
       "</style>\n",
       "<table border=\"1\" class=\"dataframe\">\n",
       "  <thead>\n",
       "    <tr style=\"text-align: right;\">\n",
       "      <th></th>\n",
       "      <th>Career</th>\n",
       "      <th>Citizenship</th>\n",
       "      <th>Nationality</th>\n",
       "      <th>Year since Matriculation</th>\n",
       "      <th>Year of Study</th>\n",
       "      <th>Primary Programme</th>\n",
       "      <th>Gender</th>\n",
       "      <th>Department</th>\n",
       "      <th>Housing Type</th>\n",
       "      <th>Q1-How many events have you Volunteered in ?</th>\n",
       "      <th>Q2-How many events have you Participated in ?</th>\n",
       "      <th>Q3-How many activities are you Interested in ?</th>\n",
       "      <th>Q4-How many activities are you Passionate about ?</th>\n",
       "      <th>Q5-What are your levels of stress ?</th>\n",
       "      <th>Q6-How Satisfied You are with your Student Life ?</th>\n",
       "      <th>Q7-How much effort do you make to interact with others ?</th>\n",
       "      <th>Q8-About How events are you aware about ?</th>\n",
       "      <th>response_id</th>\n",
       "      <th>Q9-What is an ideal student life ?</th>\n",
       "    </tr>\n",
       "  </thead>\n",
       "  <tbody>\n",
       "    <tr>\n",
       "      <th>0</th>\n",
       "      <td>UGRD</td>\n",
       "      <td>Foreigner</td>\n",
       "      <td>Indonesia</td>\n",
       "      <td>2</td>\n",
       "      <td>2</td>\n",
       "      <td>Bachelor of Science</td>\n",
       "      <td>F</td>\n",
       "      <td>School of Science</td>\n",
       "      <td>Residences</td>\n",
       "      <td>0</td>\n",
       "      <td>1</td>\n",
       "      <td>3</td>\n",
       "      <td>1</td>\n",
       "      <td>1</td>\n",
       "      <td>2</td>\n",
       "      <td>2.0</td>\n",
       "      <td>2.0</td>\n",
       "      <td>1</td>\n",
       "      <td>NaN</td>\n",
       "    </tr>\n",
       "    <tr>\n",
       "      <th>1</th>\n",
       "      <td>UGRD</td>\n",
       "      <td>Country Citizen</td>\n",
       "      <td>Singapore</td>\n",
       "      <td>1</td>\n",
       "      <td>1</td>\n",
       "      <td>Bachelor of Engineering</td>\n",
       "      <td>F</td>\n",
       "      <td>School of Engineering</td>\n",
       "      <td>Out of Campus</td>\n",
       "      <td>0</td>\n",
       "      <td>1</td>\n",
       "      <td>2</td>\n",
       "      <td>3</td>\n",
       "      <td>1</td>\n",
       "      <td>2</td>\n",
       "      <td>2.0</td>\n",
       "      <td>3.0</td>\n",
       "      <td>2</td>\n",
       "      <td>Friends+CCas+good result</td>\n",
       "    </tr>\n",
       "    <tr>\n",
       "      <th>2</th>\n",
       "      <td>UGRD</td>\n",
       "      <td>Foreigner</td>\n",
       "      <td>Malaysia</td>\n",
       "      <td>2</td>\n",
       "      <td>2</td>\n",
       "      <td>Bachelor of Science</td>\n",
       "      <td>M</td>\n",
       "      <td>School of Science</td>\n",
       "      <td>Halls</td>\n",
       "      <td>3</td>\n",
       "      <td>1</td>\n",
       "      <td>1</td>\n",
       "      <td>5</td>\n",
       "      <td>2</td>\n",
       "      <td>2</td>\n",
       "      <td>2.0</td>\n",
       "      <td>2.0</td>\n",
       "      <td>3</td>\n",
       "      <td>just want everything to go smooth. serious</td>\n",
       "    </tr>\n",
       "    <tr>\n",
       "      <th>3</th>\n",
       "      <td>UGRD</td>\n",
       "      <td>Foreigner</td>\n",
       "      <td>Malaysia</td>\n",
       "      <td>2</td>\n",
       "      <td>2</td>\n",
       "      <td>Bachelor of Engineering</td>\n",
       "      <td>M</td>\n",
       "      <td>School of Engineering</td>\n",
       "      <td>Halls</td>\n",
       "      <td>3</td>\n",
       "      <td>4</td>\n",
       "      <td>3</td>\n",
       "      <td>3</td>\n",
       "      <td>7</td>\n",
       "      <td>1</td>\n",
       "      <td>1.0</td>\n",
       "      <td>1.0</td>\n",
       "      <td>4</td>\n",
       "      <td>NaN</td>\n",
       "    </tr>\n",
       "    <tr>\n",
       "      <th>4</th>\n",
       "      <td>UGRD</td>\n",
       "      <td>Foreigner</td>\n",
       "      <td>Viet Nam</td>\n",
       "      <td>3</td>\n",
       "      <td>3</td>\n",
       "      <td>Bachelor of Engineering</td>\n",
       "      <td>F</td>\n",
       "      <td>School of Engineering</td>\n",
       "      <td>Out of Campus</td>\n",
       "      <td>4</td>\n",
       "      <td>3</td>\n",
       "      <td>4</td>\n",
       "      <td>5</td>\n",
       "      <td>4</td>\n",
       "      <td>2</td>\n",
       "      <td>2.0</td>\n",
       "      <td>2.0</td>\n",
       "      <td>5</td>\n",
       "      <td>a mixture of both academic and non-academic</td>\n",
       "    </tr>\n",
       "    <tr>\n",
       "      <th>...</th>\n",
       "      <td>...</td>\n",
       "      <td>...</td>\n",
       "      <td>...</td>\n",
       "      <td>...</td>\n",
       "      <td>...</td>\n",
       "      <td>...</td>\n",
       "      <td>...</td>\n",
       "      <td>...</td>\n",
       "      <td>...</td>\n",
       "      <td>...</td>\n",
       "      <td>...</td>\n",
       "      <td>...</td>\n",
       "      <td>...</td>\n",
       "      <td>...</td>\n",
       "      <td>...</td>\n",
       "      <td>...</td>\n",
       "      <td>...</td>\n",
       "      <td>...</td>\n",
       "      <td>...</td>\n",
       "    </tr>\n",
       "    <tr>\n",
       "      <th>2953</th>\n",
       "      <td>UGRD</td>\n",
       "      <td>Country Citizen</td>\n",
       "      <td>Singapore</td>\n",
       "      <td>1</td>\n",
       "      <td>1</td>\n",
       "      <td>Bachelor of Science</td>\n",
       "      <td>F</td>\n",
       "      <td>School of Science</td>\n",
       "      <td>Out of Campus</td>\n",
       "      <td>0</td>\n",
       "      <td>1</td>\n",
       "      <td>5</td>\n",
       "      <td>8</td>\n",
       "      <td>3</td>\n",
       "      <td>2</td>\n",
       "      <td>NaN</td>\n",
       "      <td>NaN</td>\n",
       "      <td>2954</td>\n",
       "      <td>The ideal student life is about able to balanc...</td>\n",
       "    </tr>\n",
       "    <tr>\n",
       "      <th>2954</th>\n",
       "      <td>UGRD</td>\n",
       "      <td>Country Citizen</td>\n",
       "      <td>Singapore</td>\n",
       "      <td>2</td>\n",
       "      <td>2</td>\n",
       "      <td>Bach. of Med.,Bach. of Surg.</td>\n",
       "      <td>M</td>\n",
       "      <td>School of Medicine1</td>\n",
       "      <td>Out of Campus</td>\n",
       "      <td>1</td>\n",
       "      <td>1</td>\n",
       "      <td>5</td>\n",
       "      <td>2</td>\n",
       "      <td>1</td>\n",
       "      <td>2</td>\n",
       "      <td>NaN</td>\n",
       "      <td>NaN</td>\n",
       "      <td>2955</td>\n",
       "      <td>Work-life balance with time for leisure activi...</td>\n",
       "    </tr>\n",
       "    <tr>\n",
       "      <th>2955</th>\n",
       "      <td>GRAD</td>\n",
       "      <td>Foreigner</td>\n",
       "      <td>China</td>\n",
       "      <td>1</td>\n",
       "      <td>1</td>\n",
       "      <td>Master of Science (Track 1)</td>\n",
       "      <td>F</td>\n",
       "      <td>School of Science</td>\n",
       "      <td>Out of Campus</td>\n",
       "      <td>0</td>\n",
       "      <td>1</td>\n",
       "      <td>1</td>\n",
       "      <td>2</td>\n",
       "      <td>1</td>\n",
       "      <td>3</td>\n",
       "      <td>NaN</td>\n",
       "      <td>NaN</td>\n",
       "      <td>2956</td>\n",
       "      <td>NaN</td>\n",
       "    </tr>\n",
       "    <tr>\n",
       "      <th>2956</th>\n",
       "      <td>GRAD</td>\n",
       "      <td>Foreigner</td>\n",
       "      <td>China</td>\n",
       "      <td>4</td>\n",
       "      <td>4</td>\n",
       "      <td>Doctor of Philosophy (FoE)</td>\n",
       "      <td>M</td>\n",
       "      <td>School of Engineering</td>\n",
       "      <td>Out of Campus</td>\n",
       "      <td>3</td>\n",
       "      <td>2</td>\n",
       "      <td>6</td>\n",
       "      <td>2</td>\n",
       "      <td>3</td>\n",
       "      <td>3</td>\n",
       "      <td>NaN</td>\n",
       "      <td>NaN</td>\n",
       "      <td>2957</td>\n",
       "      <td>NaN</td>\n",
       "    </tr>\n",
       "    <tr>\n",
       "      <th>2957</th>\n",
       "      <td>UGRD</td>\n",
       "      <td>Permanent Resident</td>\n",
       "      <td>China</td>\n",
       "      <td>1</td>\n",
       "      <td>1</td>\n",
       "      <td>Bachelor of Science</td>\n",
       "      <td>F</td>\n",
       "      <td>School of Science</td>\n",
       "      <td>Halls</td>\n",
       "      <td>2</td>\n",
       "      <td>2</td>\n",
       "      <td>4</td>\n",
       "      <td>2</td>\n",
       "      <td>3</td>\n",
       "      <td>2</td>\n",
       "      <td>NaN</td>\n",
       "      <td>NaN</td>\n",
       "      <td>2958</td>\n",
       "      <td>My ideal student life is having study-life bal...</td>\n",
       "    </tr>\n",
       "  </tbody>\n",
       "</table>\n",
       "<p>2958 rows × 19 columns</p>\n",
       "</div>"
      ],
      "text/plain": [
       "     Career         Citizenship Nationality  Year since Matriculation  \\\n",
       "0      UGRD           Foreigner   Indonesia                         2   \n",
       "1      UGRD     Country Citizen   Singapore                         1   \n",
       "2      UGRD           Foreigner    Malaysia                         2   \n",
       "3      UGRD           Foreigner    Malaysia                         2   \n",
       "4      UGRD           Foreigner    Viet Nam                         3   \n",
       "...     ...                 ...         ...                       ...   \n",
       "2953   UGRD     Country Citizen   Singapore                         1   \n",
       "2954   UGRD     Country Citizen   Singapore                         2   \n",
       "2955   GRAD           Foreigner       China                         1   \n",
       "2956   GRAD           Foreigner       China                         4   \n",
       "2957   UGRD  Permanent Resident       China                         1   \n",
       "\n",
       "      Year of Study             Primary Programme Gender  \\\n",
       "0                 2           Bachelor of Science      F   \n",
       "1                 1       Bachelor of Engineering      F   \n",
       "2                 2           Bachelor of Science      M   \n",
       "3                 2       Bachelor of Engineering      M   \n",
       "4                 3       Bachelor of Engineering      F   \n",
       "...             ...                           ...    ...   \n",
       "2953              1           Bachelor of Science      F   \n",
       "2954              2  Bach. of Med.,Bach. of Surg.      M   \n",
       "2955              1   Master of Science (Track 1)      F   \n",
       "2956              4    Doctor of Philosophy (FoE)      M   \n",
       "2957              1           Bachelor of Science      F   \n",
       "\n",
       "                 Department   Housing Type  \\\n",
       "0         School of Science     Residences   \n",
       "1     School of Engineering  Out of Campus   \n",
       "2         School of Science          Halls   \n",
       "3     School of Engineering          Halls   \n",
       "4     School of Engineering  Out of Campus   \n",
       "...                     ...            ...   \n",
       "2953      School of Science  Out of Campus   \n",
       "2954    School of Medicine1  Out of Campus   \n",
       "2955      School of Science  Out of Campus   \n",
       "2956  School of Engineering  Out of Campus   \n",
       "2957      School of Science          Halls   \n",
       "\n",
       "      Q1-How many events have you Volunteered in ?  \\\n",
       "0                                                0   \n",
       "1                                                0   \n",
       "2                                                3   \n",
       "3                                                3   \n",
       "4                                                4   \n",
       "...                                            ...   \n",
       "2953                                             0   \n",
       "2954                                             1   \n",
       "2955                                             0   \n",
       "2956                                             3   \n",
       "2957                                             2   \n",
       "\n",
       "      Q2-How many events have you Participated in ?  \\\n",
       "0                                                 1   \n",
       "1                                                 1   \n",
       "2                                                 1   \n",
       "3                                                 4   \n",
       "4                                                 3   \n",
       "...                                             ...   \n",
       "2953                                              1   \n",
       "2954                                              1   \n",
       "2955                                              1   \n",
       "2956                                              2   \n",
       "2957                                              2   \n",
       "\n",
       "      Q3-How many activities are you Interested in ?  \\\n",
       "0                                                  3   \n",
       "1                                                  2   \n",
       "2                                                  1   \n",
       "3                                                  3   \n",
       "4                                                  4   \n",
       "...                                              ...   \n",
       "2953                                               5   \n",
       "2954                                               5   \n",
       "2955                                               1   \n",
       "2956                                               6   \n",
       "2957                                               4   \n",
       "\n",
       "      Q4-How many activities are you Passionate about ?  \\\n",
       "0                                                     1   \n",
       "1                                                     3   \n",
       "2                                                     5   \n",
       "3                                                     3   \n",
       "4                                                     5   \n",
       "...                                                 ...   \n",
       "2953                                                  8   \n",
       "2954                                                  2   \n",
       "2955                                                  2   \n",
       "2956                                                  2   \n",
       "2957                                                  2   \n",
       "\n",
       "      Q5-What are your levels of stress ?  \\\n",
       "0                                       1   \n",
       "1                                       1   \n",
       "2                                       2   \n",
       "3                                       7   \n",
       "4                                       4   \n",
       "...                                   ...   \n",
       "2953                                    3   \n",
       "2954                                    1   \n",
       "2955                                    1   \n",
       "2956                                    3   \n",
       "2957                                    3   \n",
       "\n",
       "      Q6-How Satisfied You are with your Student Life ?  \\\n",
       "0                                                     2   \n",
       "1                                                     2   \n",
       "2                                                     2   \n",
       "3                                                     1   \n",
       "4                                                     2   \n",
       "...                                                 ...   \n",
       "2953                                                  2   \n",
       "2954                                                  2   \n",
       "2955                                                  3   \n",
       "2956                                                  3   \n",
       "2957                                                  2   \n",
       "\n",
       "      Q7-How much effort do you make to interact with others ?  \\\n",
       "0                                                   2.0          \n",
       "1                                                   2.0          \n",
       "2                                                   2.0          \n",
       "3                                                   1.0          \n",
       "4                                                   2.0          \n",
       "...                                                 ...          \n",
       "2953                                                NaN          \n",
       "2954                                                NaN          \n",
       "2955                                                NaN          \n",
       "2956                                                NaN          \n",
       "2957                                                NaN          \n",
       "\n",
       "      Q8-About How events are you aware about ?  response_id  \\\n",
       "0                                           2.0            1   \n",
       "1                                           3.0            2   \n",
       "2                                           2.0            3   \n",
       "3                                           1.0            4   \n",
       "4                                           2.0            5   \n",
       "...                                         ...          ...   \n",
       "2953                                        NaN         2954   \n",
       "2954                                        NaN         2955   \n",
       "2955                                        NaN         2956   \n",
       "2956                                        NaN         2957   \n",
       "2957                                        NaN         2958   \n",
       "\n",
       "                     Q9-What is an ideal student life ?  \n",
       "0                                                   NaN  \n",
       "1                              Friends+CCas+good result  \n",
       "2            just want everything to go smooth. serious  \n",
       "3                                                   NaN  \n",
       "4           a mixture of both academic and non-academic  \n",
       "...                                                 ...  \n",
       "2953  The ideal student life is about able to balanc...  \n",
       "2954  Work-life balance with time for leisure activi...  \n",
       "2955                                                NaN  \n",
       "2956                                                NaN  \n",
       "2957  My ideal student life is having study-life bal...  \n",
       "\n",
       "[2958 rows x 19 columns]"
      ]
     },
     "execution_count": 2,
     "metadata": {},
     "output_type": "execute_result"
    }
   ],
   "source": [
    "data=pd.read_csv('D:\\ML\\Stress Level Prediction\\Dataset\\survey_responses.csv')\n",
    "data"
   ]
  },
  {
   "cell_type": "code",
   "execution_count": 3,
   "metadata": {
    "colab": {
     "base_uri": "https://localhost:8080/"
    },
    "id": "UGhq_hFF9Rrx",
    "outputId": "a4561941-6178-45f3-a509-cdc1f7034d3c"
   },
   "outputs": [
    {
     "data": {
      "text/plain": [
       "(2958, 19)"
      ]
     },
     "execution_count": 3,
     "metadata": {},
     "output_type": "execute_result"
    }
   ],
   "source": [
    "data.shape"
   ]
  },
  {
   "cell_type": "code",
   "execution_count": 4,
   "metadata": {
    "colab": {
     "base_uri": "https://localhost:8080/"
    },
    "id": "AScoM8i49A2E",
    "outputId": "6e61b9bf-f2d3-4a48-b2f8-320fb2e1b858"
   },
   "outputs": [
    {
     "name": "stdout",
     "output_type": "stream",
     "text": [
      "<class 'pandas.core.frame.DataFrame'>\n",
      "RangeIndex: 2958 entries, 0 to 2957\n",
      "Data columns (total 19 columns):\n",
      " #   Column                                                    Non-Null Count  Dtype  \n",
      "---  ------                                                    --------------  -----  \n",
      " 0   Career                                                    2958 non-null   object \n",
      " 1   Citizenship                                               2958 non-null   object \n",
      " 2   Nationality                                               2958 non-null   object \n",
      " 3   Year since Matriculation                                  2958 non-null   int64  \n",
      " 4   Year of Study                                             2958 non-null   int64  \n",
      " 5   Primary Programme                                         2958 non-null   object \n",
      " 6   Gender                                                    2958 non-null   object \n",
      " 7   Department                                                2958 non-null   object \n",
      " 8   Housing Type                                              2958 non-null   object \n",
      " 9   Q1-How many events have you Volunteered in ?              2958 non-null   int64  \n",
      " 10  Q2-How many events have you Participated in ?             2958 non-null   int64  \n",
      " 11  Q3-How many activities are you Interested in ?            2958 non-null   int64  \n",
      " 12  Q4-How many activities are you Passionate about ?         2958 non-null   int64  \n",
      " 13  Q5-What are your levels of stress ?                       2958 non-null   int64  \n",
      " 14  Q6-How Satisfied You are with your Student Life ?         2958 non-null   int64  \n",
      " 15  Q7-How much effort do you make to interact with others ?  2940 non-null   float64\n",
      " 16  Q8-About How events are you aware about ?                 2940 non-null   float64\n",
      " 17  response_id                                               2958 non-null   int64  \n",
      " 18  Q9-What is an ideal student life ?                        2371 non-null   object \n",
      "dtypes: float64(2), int64(9), object(8)\n",
      "memory usage: 439.2+ KB\n"
     ]
    }
   ],
   "source": [
    "data.info()"
   ]
  },
  {
   "cell_type": "code",
   "execution_count": 5,
   "metadata": {
    "colab": {
     "base_uri": "https://localhost:8080/"
    },
    "id": "GraKhJEs9Qyq",
    "outputId": "7d3f553e-622c-451d-a691-af3fce382f9c"
   },
   "outputs": [
    {
     "data": {
      "text/plain": [
       "Index(['Career', 'Citizenship', 'Nationality', 'Year since Matriculation',\n",
       "       'Year of Study', 'Primary Programme', 'Gender', 'Department',\n",
       "       'Housing Type', 'Q1-How many events have you Volunteered in ?',\n",
       "       'Q2-How many events have you Participated in ?',\n",
       "       'Q3-How many activities are you Interested in ?',\n",
       "       'Q4-How many activities are you Passionate about ?',\n",
       "       'Q5-What are your levels of stress ?',\n",
       "       'Q6-How Satisfied You are with your Student Life ?',\n",
       "       'Q7-How much effort do you make to interact with others ?',\n",
       "       'Q8-About How events are you aware about ?', 'response_id',\n",
       "       'Q9-What is an ideal student life ?'],\n",
       "      dtype='object')"
      ]
     },
     "execution_count": 5,
     "metadata": {},
     "output_type": "execute_result"
    }
   ],
   "source": [
    "data.columns"
   ]
  },
  {
   "cell_type": "code",
   "execution_count": 6,
   "metadata": {
    "colab": {
     "base_uri": "https://localhost:8080/",
     "height": 707
    },
    "id": "5FN53CPSjZeW",
    "outputId": "1d43a24e-2ecc-4200-ec6c-21cb4b274c1f"
   },
   "outputs": [
    {
     "data": {
      "text/html": [
       "<div>\n",
       "<style scoped>\n",
       "    .dataframe tbody tr th:only-of-type {\n",
       "        vertical-align: middle;\n",
       "    }\n",
       "\n",
       "    .dataframe tbody tr th {\n",
       "        vertical-align: top;\n",
       "    }\n",
       "\n",
       "    .dataframe thead th {\n",
       "        text-align: right;\n",
       "    }\n",
       "</style>\n",
       "<table border=\"1\" class=\"dataframe\">\n",
       "  <thead>\n",
       "    <tr style=\"text-align: right;\">\n",
       "      <th></th>\n",
       "      <th>Career</th>\n",
       "      <th>Citizenship</th>\n",
       "      <th>Nationality</th>\n",
       "      <th>Year since Matriculation</th>\n",
       "      <th>Year of Study</th>\n",
       "      <th>Primary Programme</th>\n",
       "      <th>Gender</th>\n",
       "      <th>Department</th>\n",
       "      <th>Housing Type</th>\n",
       "      <th>Q1-How many events have you Volunteered in ?</th>\n",
       "      <th>Q2-How many events have you Participated in ?</th>\n",
       "      <th>Q3-How many activities are you Interested in ?</th>\n",
       "      <th>Q4-How many activities are you Passionate about ?</th>\n",
       "      <th>Q5-What are your levels of stress ?</th>\n",
       "      <th>Q6-How Satisfied You are with your Student Life ?</th>\n",
       "      <th>Q7-How much effort do you make to interact with others ?</th>\n",
       "      <th>Q8-About How events are you aware about ?</th>\n",
       "      <th>response_id</th>\n",
       "      <th>Q9-What is an ideal student life ?</th>\n",
       "    </tr>\n",
       "  </thead>\n",
       "  <tbody>\n",
       "    <tr>\n",
       "      <th>2953</th>\n",
       "      <td>UGRD</td>\n",
       "      <td>Country Citizen</td>\n",
       "      <td>Singapore</td>\n",
       "      <td>1</td>\n",
       "      <td>1</td>\n",
       "      <td>Bachelor of Science</td>\n",
       "      <td>F</td>\n",
       "      <td>School of Science</td>\n",
       "      <td>Out of Campus</td>\n",
       "      <td>0</td>\n",
       "      <td>1</td>\n",
       "      <td>5</td>\n",
       "      <td>8</td>\n",
       "      <td>3</td>\n",
       "      <td>2</td>\n",
       "      <td>NaN</td>\n",
       "      <td>NaN</td>\n",
       "      <td>2954</td>\n",
       "      <td>The ideal student life is about able to balanc...</td>\n",
       "    </tr>\n",
       "    <tr>\n",
       "      <th>2954</th>\n",
       "      <td>UGRD</td>\n",
       "      <td>Country Citizen</td>\n",
       "      <td>Singapore</td>\n",
       "      <td>2</td>\n",
       "      <td>2</td>\n",
       "      <td>Bach. of Med.,Bach. of Surg.</td>\n",
       "      <td>M</td>\n",
       "      <td>School of Medicine1</td>\n",
       "      <td>Out of Campus</td>\n",
       "      <td>1</td>\n",
       "      <td>1</td>\n",
       "      <td>5</td>\n",
       "      <td>2</td>\n",
       "      <td>1</td>\n",
       "      <td>2</td>\n",
       "      <td>NaN</td>\n",
       "      <td>NaN</td>\n",
       "      <td>2955</td>\n",
       "      <td>Work-life balance with time for leisure activi...</td>\n",
       "    </tr>\n",
       "    <tr>\n",
       "      <th>2955</th>\n",
       "      <td>GRAD</td>\n",
       "      <td>Foreigner</td>\n",
       "      <td>China</td>\n",
       "      <td>1</td>\n",
       "      <td>1</td>\n",
       "      <td>Master of Science (Track 1)</td>\n",
       "      <td>F</td>\n",
       "      <td>School of Science</td>\n",
       "      <td>Out of Campus</td>\n",
       "      <td>0</td>\n",
       "      <td>1</td>\n",
       "      <td>1</td>\n",
       "      <td>2</td>\n",
       "      <td>1</td>\n",
       "      <td>3</td>\n",
       "      <td>NaN</td>\n",
       "      <td>NaN</td>\n",
       "      <td>2956</td>\n",
       "      <td>NaN</td>\n",
       "    </tr>\n",
       "    <tr>\n",
       "      <th>2956</th>\n",
       "      <td>GRAD</td>\n",
       "      <td>Foreigner</td>\n",
       "      <td>China</td>\n",
       "      <td>4</td>\n",
       "      <td>4</td>\n",
       "      <td>Doctor of Philosophy (FoE)</td>\n",
       "      <td>M</td>\n",
       "      <td>School of Engineering</td>\n",
       "      <td>Out of Campus</td>\n",
       "      <td>3</td>\n",
       "      <td>2</td>\n",
       "      <td>6</td>\n",
       "      <td>2</td>\n",
       "      <td>3</td>\n",
       "      <td>3</td>\n",
       "      <td>NaN</td>\n",
       "      <td>NaN</td>\n",
       "      <td>2957</td>\n",
       "      <td>NaN</td>\n",
       "    </tr>\n",
       "    <tr>\n",
       "      <th>2957</th>\n",
       "      <td>UGRD</td>\n",
       "      <td>Permanent Resident</td>\n",
       "      <td>China</td>\n",
       "      <td>1</td>\n",
       "      <td>1</td>\n",
       "      <td>Bachelor of Science</td>\n",
       "      <td>F</td>\n",
       "      <td>School of Science</td>\n",
       "      <td>Halls</td>\n",
       "      <td>2</td>\n",
       "      <td>2</td>\n",
       "      <td>4</td>\n",
       "      <td>2</td>\n",
       "      <td>3</td>\n",
       "      <td>2</td>\n",
       "      <td>NaN</td>\n",
       "      <td>NaN</td>\n",
       "      <td>2958</td>\n",
       "      <td>My ideal student life is having study-life bal...</td>\n",
       "    </tr>\n",
       "  </tbody>\n",
       "</table>\n",
       "</div>"
      ],
      "text/plain": [
       "     Career         Citizenship Nationality  Year since Matriculation  \\\n",
       "2953   UGRD     Country Citizen   Singapore                         1   \n",
       "2954   UGRD     Country Citizen   Singapore                         2   \n",
       "2955   GRAD           Foreigner       China                         1   \n",
       "2956   GRAD           Foreigner       China                         4   \n",
       "2957   UGRD  Permanent Resident       China                         1   \n",
       "\n",
       "      Year of Study             Primary Programme Gender  \\\n",
       "2953              1           Bachelor of Science      F   \n",
       "2954              2  Bach. of Med.,Bach. of Surg.      M   \n",
       "2955              1   Master of Science (Track 1)      F   \n",
       "2956              4    Doctor of Philosophy (FoE)      M   \n",
       "2957              1           Bachelor of Science      F   \n",
       "\n",
       "                 Department   Housing Type  \\\n",
       "2953      School of Science  Out of Campus   \n",
       "2954    School of Medicine1  Out of Campus   \n",
       "2955      School of Science  Out of Campus   \n",
       "2956  School of Engineering  Out of Campus   \n",
       "2957      School of Science          Halls   \n",
       "\n",
       "      Q1-How many events have you Volunteered in ?  \\\n",
       "2953                                             0   \n",
       "2954                                             1   \n",
       "2955                                             0   \n",
       "2956                                             3   \n",
       "2957                                             2   \n",
       "\n",
       "      Q2-How many events have you Participated in ?  \\\n",
       "2953                                              1   \n",
       "2954                                              1   \n",
       "2955                                              1   \n",
       "2956                                              2   \n",
       "2957                                              2   \n",
       "\n",
       "      Q3-How many activities are you Interested in ?  \\\n",
       "2953                                               5   \n",
       "2954                                               5   \n",
       "2955                                               1   \n",
       "2956                                               6   \n",
       "2957                                               4   \n",
       "\n",
       "      Q4-How many activities are you Passionate about ?  \\\n",
       "2953                                                  8   \n",
       "2954                                                  2   \n",
       "2955                                                  2   \n",
       "2956                                                  2   \n",
       "2957                                                  2   \n",
       "\n",
       "      Q5-What are your levels of stress ?  \\\n",
       "2953                                    3   \n",
       "2954                                    1   \n",
       "2955                                    1   \n",
       "2956                                    3   \n",
       "2957                                    3   \n",
       "\n",
       "      Q6-How Satisfied You are with your Student Life ?  \\\n",
       "2953                                                  2   \n",
       "2954                                                  2   \n",
       "2955                                                  3   \n",
       "2956                                                  3   \n",
       "2957                                                  2   \n",
       "\n",
       "      Q7-How much effort do you make to interact with others ?  \\\n",
       "2953                                                NaN          \n",
       "2954                                                NaN          \n",
       "2955                                                NaN          \n",
       "2956                                                NaN          \n",
       "2957                                                NaN          \n",
       "\n",
       "      Q8-About How events are you aware about ?  response_id  \\\n",
       "2953                                        NaN         2954   \n",
       "2954                                        NaN         2955   \n",
       "2955                                        NaN         2956   \n",
       "2956                                        NaN         2957   \n",
       "2957                                        NaN         2958   \n",
       "\n",
       "                     Q9-What is an ideal student life ?  \n",
       "2953  The ideal student life is about able to balanc...  \n",
       "2954  Work-life balance with time for leisure activi...  \n",
       "2955                                                NaN  \n",
       "2956                                                NaN  \n",
       "2957  My ideal student life is having study-life bal...  "
      ]
     },
     "execution_count": 6,
     "metadata": {},
     "output_type": "execute_result"
    }
   ],
   "source": [
    "data.tail()"
   ]
  },
  {
   "cell_type": "code",
   "execution_count": 7,
   "metadata": {
    "colab": {
     "base_uri": "https://localhost:8080/",
     "height": 707
    },
    "id": "YBWCrtxVjl0n",
    "outputId": "7eb3c614-ca68-418b-c336-f46744da1c04"
   },
   "outputs": [
    {
     "data": {
      "text/html": [
       "<div>\n",
       "<style scoped>\n",
       "    .dataframe tbody tr th:only-of-type {\n",
       "        vertical-align: middle;\n",
       "    }\n",
       "\n",
       "    .dataframe tbody tr th {\n",
       "        vertical-align: top;\n",
       "    }\n",
       "\n",
       "    .dataframe thead th {\n",
       "        text-align: right;\n",
       "    }\n",
       "</style>\n",
       "<table border=\"1\" class=\"dataframe\">\n",
       "  <thead>\n",
       "    <tr style=\"text-align: right;\">\n",
       "      <th></th>\n",
       "      <th>Career</th>\n",
       "      <th>Citizenship</th>\n",
       "      <th>Nationality</th>\n",
       "      <th>Year since Matriculation</th>\n",
       "      <th>Year of Study</th>\n",
       "      <th>Primary Programme</th>\n",
       "      <th>Gender</th>\n",
       "      <th>Department</th>\n",
       "      <th>Housing Type</th>\n",
       "      <th>Q1-How many events have you Volunteered in ?</th>\n",
       "      <th>Q2-How many events have you Participated in ?</th>\n",
       "      <th>Q3-How many activities are you Interested in ?</th>\n",
       "      <th>Q4-How many activities are you Passionate about ?</th>\n",
       "      <th>Q5-What are your levels of stress ?</th>\n",
       "      <th>Q6-How Satisfied You are with your Student Life ?</th>\n",
       "      <th>Q7-How much effort do you make to interact with others ?</th>\n",
       "      <th>Q8-About How events are you aware about ?</th>\n",
       "      <th>response_id</th>\n",
       "      <th>Q9-What is an ideal student life ?</th>\n",
       "    </tr>\n",
       "  </thead>\n",
       "  <tbody>\n",
       "    <tr>\n",
       "      <th>2953</th>\n",
       "      <td>UGRD</td>\n",
       "      <td>Country Citizen</td>\n",
       "      <td>Singapore</td>\n",
       "      <td>1</td>\n",
       "      <td>1</td>\n",
       "      <td>Bachelor of Science</td>\n",
       "      <td>F</td>\n",
       "      <td>School of Science</td>\n",
       "      <td>Out of Campus</td>\n",
       "      <td>0</td>\n",
       "      <td>1</td>\n",
       "      <td>5</td>\n",
       "      <td>8</td>\n",
       "      <td>3</td>\n",
       "      <td>2</td>\n",
       "      <td>NaN</td>\n",
       "      <td>NaN</td>\n",
       "      <td>2954</td>\n",
       "      <td>The ideal student life is about able to balanc...</td>\n",
       "    </tr>\n",
       "    <tr>\n",
       "      <th>2954</th>\n",
       "      <td>UGRD</td>\n",
       "      <td>Country Citizen</td>\n",
       "      <td>Singapore</td>\n",
       "      <td>2</td>\n",
       "      <td>2</td>\n",
       "      <td>Bach. of Med.,Bach. of Surg.</td>\n",
       "      <td>M</td>\n",
       "      <td>School of Medicine1</td>\n",
       "      <td>Out of Campus</td>\n",
       "      <td>1</td>\n",
       "      <td>1</td>\n",
       "      <td>5</td>\n",
       "      <td>2</td>\n",
       "      <td>1</td>\n",
       "      <td>2</td>\n",
       "      <td>NaN</td>\n",
       "      <td>NaN</td>\n",
       "      <td>2955</td>\n",
       "      <td>Work-life balance with time for leisure activi...</td>\n",
       "    </tr>\n",
       "    <tr>\n",
       "      <th>2955</th>\n",
       "      <td>GRAD</td>\n",
       "      <td>Foreigner</td>\n",
       "      <td>China</td>\n",
       "      <td>1</td>\n",
       "      <td>1</td>\n",
       "      <td>Master of Science (Track 1)</td>\n",
       "      <td>F</td>\n",
       "      <td>School of Science</td>\n",
       "      <td>Out of Campus</td>\n",
       "      <td>0</td>\n",
       "      <td>1</td>\n",
       "      <td>1</td>\n",
       "      <td>2</td>\n",
       "      <td>1</td>\n",
       "      <td>3</td>\n",
       "      <td>NaN</td>\n",
       "      <td>NaN</td>\n",
       "      <td>2956</td>\n",
       "      <td>NaN</td>\n",
       "    </tr>\n",
       "    <tr>\n",
       "      <th>2956</th>\n",
       "      <td>GRAD</td>\n",
       "      <td>Foreigner</td>\n",
       "      <td>China</td>\n",
       "      <td>4</td>\n",
       "      <td>4</td>\n",
       "      <td>Doctor of Philosophy (FoE)</td>\n",
       "      <td>M</td>\n",
       "      <td>School of Engineering</td>\n",
       "      <td>Out of Campus</td>\n",
       "      <td>3</td>\n",
       "      <td>2</td>\n",
       "      <td>6</td>\n",
       "      <td>2</td>\n",
       "      <td>3</td>\n",
       "      <td>3</td>\n",
       "      <td>NaN</td>\n",
       "      <td>NaN</td>\n",
       "      <td>2957</td>\n",
       "      <td>NaN</td>\n",
       "    </tr>\n",
       "    <tr>\n",
       "      <th>2957</th>\n",
       "      <td>UGRD</td>\n",
       "      <td>Permanent Resident</td>\n",
       "      <td>China</td>\n",
       "      <td>1</td>\n",
       "      <td>1</td>\n",
       "      <td>Bachelor of Science</td>\n",
       "      <td>F</td>\n",
       "      <td>School of Science</td>\n",
       "      <td>Halls</td>\n",
       "      <td>2</td>\n",
       "      <td>2</td>\n",
       "      <td>4</td>\n",
       "      <td>2</td>\n",
       "      <td>3</td>\n",
       "      <td>2</td>\n",
       "      <td>NaN</td>\n",
       "      <td>NaN</td>\n",
       "      <td>2958</td>\n",
       "      <td>My ideal student life is having study-life bal...</td>\n",
       "    </tr>\n",
       "  </tbody>\n",
       "</table>\n",
       "</div>"
      ],
      "text/plain": [
       "     Career         Citizenship Nationality  Year since Matriculation  \\\n",
       "2953   UGRD     Country Citizen   Singapore                         1   \n",
       "2954   UGRD     Country Citizen   Singapore                         2   \n",
       "2955   GRAD           Foreigner       China                         1   \n",
       "2956   GRAD           Foreigner       China                         4   \n",
       "2957   UGRD  Permanent Resident       China                         1   \n",
       "\n",
       "      Year of Study             Primary Programme Gender  \\\n",
       "2953              1           Bachelor of Science      F   \n",
       "2954              2  Bach. of Med.,Bach. of Surg.      M   \n",
       "2955              1   Master of Science (Track 1)      F   \n",
       "2956              4    Doctor of Philosophy (FoE)      M   \n",
       "2957              1           Bachelor of Science      F   \n",
       "\n",
       "                 Department   Housing Type  \\\n",
       "2953      School of Science  Out of Campus   \n",
       "2954    School of Medicine1  Out of Campus   \n",
       "2955      School of Science  Out of Campus   \n",
       "2956  School of Engineering  Out of Campus   \n",
       "2957      School of Science          Halls   \n",
       "\n",
       "      Q1-How many events have you Volunteered in ?  \\\n",
       "2953                                             0   \n",
       "2954                                             1   \n",
       "2955                                             0   \n",
       "2956                                             3   \n",
       "2957                                             2   \n",
       "\n",
       "      Q2-How many events have you Participated in ?  \\\n",
       "2953                                              1   \n",
       "2954                                              1   \n",
       "2955                                              1   \n",
       "2956                                              2   \n",
       "2957                                              2   \n",
       "\n",
       "      Q3-How many activities are you Interested in ?  \\\n",
       "2953                                               5   \n",
       "2954                                               5   \n",
       "2955                                               1   \n",
       "2956                                               6   \n",
       "2957                                               4   \n",
       "\n",
       "      Q4-How many activities are you Passionate about ?  \\\n",
       "2953                                                  8   \n",
       "2954                                                  2   \n",
       "2955                                                  2   \n",
       "2956                                                  2   \n",
       "2957                                                  2   \n",
       "\n",
       "      Q5-What are your levels of stress ?  \\\n",
       "2953                                    3   \n",
       "2954                                    1   \n",
       "2955                                    1   \n",
       "2956                                    3   \n",
       "2957                                    3   \n",
       "\n",
       "      Q6-How Satisfied You are with your Student Life ?  \\\n",
       "2953                                                  2   \n",
       "2954                                                  2   \n",
       "2955                                                  3   \n",
       "2956                                                  3   \n",
       "2957                                                  2   \n",
       "\n",
       "      Q7-How much effort do you make to interact with others ?  \\\n",
       "2953                                                NaN          \n",
       "2954                                                NaN          \n",
       "2955                                                NaN          \n",
       "2956                                                NaN          \n",
       "2957                                                NaN          \n",
       "\n",
       "      Q8-About How events are you aware about ?  response_id  \\\n",
       "2953                                        NaN         2954   \n",
       "2954                                        NaN         2955   \n",
       "2955                                        NaN         2956   \n",
       "2956                                        NaN         2957   \n",
       "2957                                        NaN         2958   \n",
       "\n",
       "                     Q9-What is an ideal student life ?  \n",
       "2953  The ideal student life is about able to balanc...  \n",
       "2954  Work-life balance with time for leisure activi...  \n",
       "2955                                                NaN  \n",
       "2956                                                NaN  \n",
       "2957  My ideal student life is having study-life bal...  "
      ]
     },
     "execution_count": 7,
     "metadata": {},
     "output_type": "execute_result"
    }
   ],
   "source": [
    "data.tail()"
   ]
  },
  {
   "cell_type": "code",
   "execution_count": 8,
   "metadata": {
    "colab": {
     "base_uri": "https://localhost:8080/"
    },
    "id": "AL4wVufP9X_O",
    "outputId": "ec0fb3c5-9e60-45dd-e94b-cce7c2a9b4d2"
   },
   "outputs": [
    {
     "data": {
      "text/plain": [
       "Career                                                        0\n",
       "Citizenship                                                   0\n",
       "Nationality                                                   0\n",
       "Year since Matriculation                                      0\n",
       "Year of Study                                                 0\n",
       "Primary Programme                                             0\n",
       "Gender                                                        0\n",
       "Department                                                    0\n",
       "Housing Type                                                  0\n",
       "Q1-How many events have you Volunteered in ?                  0\n",
       "Q2-How many events have you Participated in ?                 0\n",
       "Q3-How many activities are you Interested in ?                0\n",
       "Q4-How many activities are you Passionate about ?             0\n",
       "Q5-What are your levels of stress ?                           0\n",
       "Q6-How Satisfied You are with your Student Life ?             0\n",
       "Q7-How much effort do you make to interact with others ?     18\n",
       "Q8-About How events are you aware about ?                    18\n",
       "response_id                                                   0\n",
       "Q9-What is an ideal student life ?                          587\n",
       "dtype: int64"
      ]
     },
     "execution_count": 8,
     "metadata": {},
     "output_type": "execute_result"
    }
   ],
   "source": [
    "#check for null values\n",
    "data.isnull().sum()"
   ]
  },
  {
   "cell_type": "markdown",
   "metadata": {
    "id": "C3WWfyUb9qdg"
   },
   "source": [
    "## Data Cleaning"
   ]
  },
  {
   "cell_type": "code",
   "execution_count": 9,
   "metadata": {
    "colab": {
     "base_uri": "https://localhost:8080/"
    },
    "id": "5I9CXR8Y91Ho",
    "outputId": "760da053-d9b9-477d-f6e8-d10716f57188"
   },
   "outputs": [
    {
     "data": {
      "text/plain": [
       "18"
      ]
     },
     "execution_count": 9,
     "metadata": {},
     "output_type": "execute_result"
    }
   ],
   "source": [
    "data['Q7-How much effort do you make to interact with others ?'].isnull().sum()"
   ]
  },
  {
   "cell_type": "code",
   "execution_count": 10,
   "metadata": {
    "colab": {
     "base_uri": "https://localhost:8080/"
    },
    "id": "DPSl_u0q9duE",
    "outputId": "badd380c-ae07-447b-ba87-33ff18e478ef"
   },
   "outputs": [
    {
     "data": {
      "text/plain": [
       "0    2.0\n",
       "dtype: float64"
      ]
     },
     "execution_count": 10,
     "metadata": {},
     "output_type": "execute_result"
    }
   ],
   "source": [
    "data['Q7-How much effort do you make to interact with others ?'].mode()"
   ]
  },
  {
   "cell_type": "code",
   "execution_count": 11,
   "metadata": {
    "id": "-hElZ2nw97Xs"
   },
   "outputs": [],
   "source": [
    "data['Q7-How much effort do you make to interact with others ?'].fillna('2',inplace=True)"
   ]
  },
  {
   "cell_type": "code",
   "execution_count": 12,
   "metadata": {
    "colab": {
     "base_uri": "https://localhost:8080/"
    },
    "id": "0HZXS-On90D9",
    "outputId": "d8da377b-a0bb-42c6-c21f-5319416e7969"
   },
   "outputs": [
    {
     "data": {
      "text/plain": [
       "0"
      ]
     },
     "execution_count": 12,
     "metadata": {},
     "output_type": "execute_result"
    }
   ],
   "source": [
    "data['Q7-How much effort do you make to interact with others ?'].isnull().sum()"
   ]
  },
  {
   "cell_type": "code",
   "execution_count": 13,
   "metadata": {
    "colab": {
     "base_uri": "https://localhost:8080/"
    },
    "id": "J3FbkSZa-Chr",
    "outputId": "9f18eee5-5b50-4a6a-b872-d53250abfd8e"
   },
   "outputs": [
    {
     "data": {
      "text/plain": [
       "18"
      ]
     },
     "execution_count": 13,
     "metadata": {},
     "output_type": "execute_result"
    }
   ],
   "source": [
    "data['Q8-About How events are you aware about ?'].isnull().sum()"
   ]
  },
  {
   "cell_type": "code",
   "execution_count": 14,
   "metadata": {
    "colab": {
     "base_uri": "https://localhost:8080/"
    },
    "id": "cbhuxTTK-ODk",
    "outputId": "ae2b37bb-8c6f-4291-dcbd-6806870d7335"
   },
   "outputs": [
    {
     "data": {
      "text/plain": [
       "0    2.0\n",
       "dtype: float64"
      ]
     },
     "execution_count": 14,
     "metadata": {},
     "output_type": "execute_result"
    }
   ],
   "source": [
    "data['Q8-About How events are you aware about ?'].mode()"
   ]
  },
  {
   "cell_type": "code",
   "execution_count": 15,
   "metadata": {
    "id": "o89fQs_s-Yjb"
   },
   "outputs": [],
   "source": [
    "data['Q8-About How events are you aware about ?'].fillna('2',inplace=True)"
   ]
  },
  {
   "cell_type": "code",
   "execution_count": 16,
   "metadata": {
    "colab": {
     "base_uri": "https://localhost:8080/"
    },
    "id": "yif_B23k-e1a",
    "outputId": "fd364778-1069-4f0f-af9c-7102730dbec3"
   },
   "outputs": [
    {
     "data": {
      "text/plain": [
       "0"
      ]
     },
     "execution_count": 16,
     "metadata": {},
     "output_type": "execute_result"
    }
   ],
   "source": [
    "data['Q8-About How events are you aware about ?'].isnull().sum()"
   ]
  },
  {
   "cell_type": "code",
   "execution_count": 17,
   "metadata": {
    "colab": {
     "base_uri": "https://localhost:8080/"
    },
    "id": "a3PU4X3g-go5",
    "outputId": "3df9209b-4b75-4828-af28-ac78cb6b2083"
   },
   "outputs": [
    {
     "data": {
      "text/plain": [
       "Career                                                        0\n",
       "Citizenship                                                   0\n",
       "Nationality                                                   0\n",
       "Year since Matriculation                                      0\n",
       "Year of Study                                                 0\n",
       "Primary Programme                                             0\n",
       "Gender                                                        0\n",
       "Department                                                    0\n",
       "Housing Type                                                  0\n",
       "Q1-How many events have you Volunteered in ?                  0\n",
       "Q2-How many events have you Participated in ?                 0\n",
       "Q3-How many activities are you Interested in ?                0\n",
       "Q4-How many activities are you Passionate about ?             0\n",
       "Q5-What are your levels of stress ?                           0\n",
       "Q6-How Satisfied You are with your Student Life ?             0\n",
       "Q7-How much effort do you make to interact with others ?      0\n",
       "Q8-About How events are you aware about ?                     0\n",
       "response_id                                                   0\n",
       "Q9-What is an ideal student life ?                          587\n",
       "dtype: int64"
      ]
     },
     "execution_count": 17,
     "metadata": {},
     "output_type": "execute_result"
    }
   ],
   "source": [
    "data.isnull().sum()"
   ]
  },
  {
   "cell_type": "code",
   "execution_count": 18,
   "metadata": {
    "colab": {
     "base_uri": "https://localhost:8080/",
     "height": 786
    },
    "id": "zExAn7g_-lnl",
    "outputId": "473ec288-e45b-49be-cf2a-810108c70e77"
   },
   "outputs": [
    {
     "data": {
      "text/html": [
       "<div>\n",
       "<style scoped>\n",
       "    .dataframe tbody tr th:only-of-type {\n",
       "        vertical-align: middle;\n",
       "    }\n",
       "\n",
       "    .dataframe tbody tr th {\n",
       "        vertical-align: top;\n",
       "    }\n",
       "\n",
       "    .dataframe thead th {\n",
       "        text-align: right;\n",
       "    }\n",
       "</style>\n",
       "<table border=\"1\" class=\"dataframe\">\n",
       "  <thead>\n",
       "    <tr style=\"text-align: right;\">\n",
       "      <th></th>\n",
       "      <th>Career</th>\n",
       "      <th>Citizenship</th>\n",
       "      <th>Nationality</th>\n",
       "      <th>Year of Study</th>\n",
       "      <th>Primary Programme</th>\n",
       "      <th>Gender</th>\n",
       "      <th>Department</th>\n",
       "      <th>Housing Type</th>\n",
       "      <th>Q1-How many events have you Volunteered in ?</th>\n",
       "      <th>Q2-How many events have you Participated in ?</th>\n",
       "      <th>Q3-How many activities are you Interested in ?</th>\n",
       "      <th>Q4-How many activities are you Passionate about ?</th>\n",
       "      <th>Q5-What are your levels of stress ?</th>\n",
       "      <th>Q6-How Satisfied You are with your Student Life ?</th>\n",
       "      <th>Q7-How much effort do you make to interact with others ?</th>\n",
       "      <th>Q8-About How events are you aware about ?</th>\n",
       "    </tr>\n",
       "  </thead>\n",
       "  <tbody>\n",
       "    <tr>\n",
       "      <th>0</th>\n",
       "      <td>UGRD</td>\n",
       "      <td>Foreigner</td>\n",
       "      <td>Indonesia</td>\n",
       "      <td>2</td>\n",
       "      <td>Bachelor of Science</td>\n",
       "      <td>F</td>\n",
       "      <td>School of Science</td>\n",
       "      <td>Residences</td>\n",
       "      <td>0</td>\n",
       "      <td>1</td>\n",
       "      <td>3</td>\n",
       "      <td>1</td>\n",
       "      <td>1</td>\n",
       "      <td>2</td>\n",
       "      <td>2.0</td>\n",
       "      <td>2.0</td>\n",
       "    </tr>\n",
       "    <tr>\n",
       "      <th>1</th>\n",
       "      <td>UGRD</td>\n",
       "      <td>Country Citizen</td>\n",
       "      <td>Singapore</td>\n",
       "      <td>1</td>\n",
       "      <td>Bachelor of Engineering</td>\n",
       "      <td>F</td>\n",
       "      <td>School of Engineering</td>\n",
       "      <td>Out of Campus</td>\n",
       "      <td>0</td>\n",
       "      <td>1</td>\n",
       "      <td>2</td>\n",
       "      <td>3</td>\n",
       "      <td>1</td>\n",
       "      <td>2</td>\n",
       "      <td>2.0</td>\n",
       "      <td>3.0</td>\n",
       "    </tr>\n",
       "    <tr>\n",
       "      <th>2</th>\n",
       "      <td>UGRD</td>\n",
       "      <td>Foreigner</td>\n",
       "      <td>Malaysia</td>\n",
       "      <td>2</td>\n",
       "      <td>Bachelor of Science</td>\n",
       "      <td>M</td>\n",
       "      <td>School of Science</td>\n",
       "      <td>Halls</td>\n",
       "      <td>3</td>\n",
       "      <td>1</td>\n",
       "      <td>1</td>\n",
       "      <td>5</td>\n",
       "      <td>2</td>\n",
       "      <td>2</td>\n",
       "      <td>2.0</td>\n",
       "      <td>2.0</td>\n",
       "    </tr>\n",
       "    <tr>\n",
       "      <th>3</th>\n",
       "      <td>UGRD</td>\n",
       "      <td>Foreigner</td>\n",
       "      <td>Malaysia</td>\n",
       "      <td>2</td>\n",
       "      <td>Bachelor of Engineering</td>\n",
       "      <td>M</td>\n",
       "      <td>School of Engineering</td>\n",
       "      <td>Halls</td>\n",
       "      <td>3</td>\n",
       "      <td>4</td>\n",
       "      <td>3</td>\n",
       "      <td>3</td>\n",
       "      <td>7</td>\n",
       "      <td>1</td>\n",
       "      <td>1.0</td>\n",
       "      <td>1.0</td>\n",
       "    </tr>\n",
       "    <tr>\n",
       "      <th>4</th>\n",
       "      <td>UGRD</td>\n",
       "      <td>Foreigner</td>\n",
       "      <td>Viet Nam</td>\n",
       "      <td>3</td>\n",
       "      <td>Bachelor of Engineering</td>\n",
       "      <td>F</td>\n",
       "      <td>School of Engineering</td>\n",
       "      <td>Out of Campus</td>\n",
       "      <td>4</td>\n",
       "      <td>3</td>\n",
       "      <td>4</td>\n",
       "      <td>5</td>\n",
       "      <td>4</td>\n",
       "      <td>2</td>\n",
       "      <td>2.0</td>\n",
       "      <td>2.0</td>\n",
       "    </tr>\n",
       "    <tr>\n",
       "      <th>...</th>\n",
       "      <td>...</td>\n",
       "      <td>...</td>\n",
       "      <td>...</td>\n",
       "      <td>...</td>\n",
       "      <td>...</td>\n",
       "      <td>...</td>\n",
       "      <td>...</td>\n",
       "      <td>...</td>\n",
       "      <td>...</td>\n",
       "      <td>...</td>\n",
       "      <td>...</td>\n",
       "      <td>...</td>\n",
       "      <td>...</td>\n",
       "      <td>...</td>\n",
       "      <td>...</td>\n",
       "      <td>...</td>\n",
       "    </tr>\n",
       "    <tr>\n",
       "      <th>2953</th>\n",
       "      <td>UGRD</td>\n",
       "      <td>Country Citizen</td>\n",
       "      <td>Singapore</td>\n",
       "      <td>1</td>\n",
       "      <td>Bachelor of Science</td>\n",
       "      <td>F</td>\n",
       "      <td>School of Science</td>\n",
       "      <td>Out of Campus</td>\n",
       "      <td>0</td>\n",
       "      <td>1</td>\n",
       "      <td>5</td>\n",
       "      <td>8</td>\n",
       "      <td>3</td>\n",
       "      <td>2</td>\n",
       "      <td>2</td>\n",
       "      <td>2</td>\n",
       "    </tr>\n",
       "    <tr>\n",
       "      <th>2954</th>\n",
       "      <td>UGRD</td>\n",
       "      <td>Country Citizen</td>\n",
       "      <td>Singapore</td>\n",
       "      <td>2</td>\n",
       "      <td>Bach. of Med.,Bach. of Surg.</td>\n",
       "      <td>M</td>\n",
       "      <td>School of Medicine1</td>\n",
       "      <td>Out of Campus</td>\n",
       "      <td>1</td>\n",
       "      <td>1</td>\n",
       "      <td>5</td>\n",
       "      <td>2</td>\n",
       "      <td>1</td>\n",
       "      <td>2</td>\n",
       "      <td>2</td>\n",
       "      <td>2</td>\n",
       "    </tr>\n",
       "    <tr>\n",
       "      <th>2955</th>\n",
       "      <td>GRAD</td>\n",
       "      <td>Foreigner</td>\n",
       "      <td>China</td>\n",
       "      <td>1</td>\n",
       "      <td>Master of Science (Track 1)</td>\n",
       "      <td>F</td>\n",
       "      <td>School of Science</td>\n",
       "      <td>Out of Campus</td>\n",
       "      <td>0</td>\n",
       "      <td>1</td>\n",
       "      <td>1</td>\n",
       "      <td>2</td>\n",
       "      <td>1</td>\n",
       "      <td>3</td>\n",
       "      <td>2</td>\n",
       "      <td>2</td>\n",
       "    </tr>\n",
       "    <tr>\n",
       "      <th>2956</th>\n",
       "      <td>GRAD</td>\n",
       "      <td>Foreigner</td>\n",
       "      <td>China</td>\n",
       "      <td>4</td>\n",
       "      <td>Doctor of Philosophy (FoE)</td>\n",
       "      <td>M</td>\n",
       "      <td>School of Engineering</td>\n",
       "      <td>Out of Campus</td>\n",
       "      <td>3</td>\n",
       "      <td>2</td>\n",
       "      <td>6</td>\n",
       "      <td>2</td>\n",
       "      <td>3</td>\n",
       "      <td>3</td>\n",
       "      <td>2</td>\n",
       "      <td>2</td>\n",
       "    </tr>\n",
       "    <tr>\n",
       "      <th>2957</th>\n",
       "      <td>UGRD</td>\n",
       "      <td>Permanent Resident</td>\n",
       "      <td>China</td>\n",
       "      <td>1</td>\n",
       "      <td>Bachelor of Science</td>\n",
       "      <td>F</td>\n",
       "      <td>School of Science</td>\n",
       "      <td>Halls</td>\n",
       "      <td>2</td>\n",
       "      <td>2</td>\n",
       "      <td>4</td>\n",
       "      <td>2</td>\n",
       "      <td>3</td>\n",
       "      <td>2</td>\n",
       "      <td>2</td>\n",
       "      <td>2</td>\n",
       "    </tr>\n",
       "  </tbody>\n",
       "</table>\n",
       "<p>2958 rows × 16 columns</p>\n",
       "</div>"
      ],
      "text/plain": [
       "     Career         Citizenship Nationality  Year of Study  \\\n",
       "0      UGRD           Foreigner   Indonesia              2   \n",
       "1      UGRD     Country Citizen   Singapore              1   \n",
       "2      UGRD           Foreigner    Malaysia              2   \n",
       "3      UGRD           Foreigner    Malaysia              2   \n",
       "4      UGRD           Foreigner    Viet Nam              3   \n",
       "...     ...                 ...         ...            ...   \n",
       "2953   UGRD     Country Citizen   Singapore              1   \n",
       "2954   UGRD     Country Citizen   Singapore              2   \n",
       "2955   GRAD           Foreigner       China              1   \n",
       "2956   GRAD           Foreigner       China              4   \n",
       "2957   UGRD  Permanent Resident       China              1   \n",
       "\n",
       "                 Primary Programme Gender             Department  \\\n",
       "0              Bachelor of Science      F      School of Science   \n",
       "1          Bachelor of Engineering      F  School of Engineering   \n",
       "2              Bachelor of Science      M      School of Science   \n",
       "3          Bachelor of Engineering      M  School of Engineering   \n",
       "4          Bachelor of Engineering      F  School of Engineering   \n",
       "...                            ...    ...                    ...   \n",
       "2953           Bachelor of Science      F      School of Science   \n",
       "2954  Bach. of Med.,Bach. of Surg.      M    School of Medicine1   \n",
       "2955   Master of Science (Track 1)      F      School of Science   \n",
       "2956    Doctor of Philosophy (FoE)      M  School of Engineering   \n",
       "2957           Bachelor of Science      F      School of Science   \n",
       "\n",
       "       Housing Type  Q1-How many events have you Volunteered in ?  \\\n",
       "0        Residences                                             0   \n",
       "1     Out of Campus                                             0   \n",
       "2             Halls                                             3   \n",
       "3             Halls                                             3   \n",
       "4     Out of Campus                                             4   \n",
       "...             ...                                           ...   \n",
       "2953  Out of Campus                                             0   \n",
       "2954  Out of Campus                                             1   \n",
       "2955  Out of Campus                                             0   \n",
       "2956  Out of Campus                                             3   \n",
       "2957          Halls                                             2   \n",
       "\n",
       "      Q2-How many events have you Participated in ?  \\\n",
       "0                                                 1   \n",
       "1                                                 1   \n",
       "2                                                 1   \n",
       "3                                                 4   \n",
       "4                                                 3   \n",
       "...                                             ...   \n",
       "2953                                              1   \n",
       "2954                                              1   \n",
       "2955                                              1   \n",
       "2956                                              2   \n",
       "2957                                              2   \n",
       "\n",
       "      Q3-How many activities are you Interested in ?  \\\n",
       "0                                                  3   \n",
       "1                                                  2   \n",
       "2                                                  1   \n",
       "3                                                  3   \n",
       "4                                                  4   \n",
       "...                                              ...   \n",
       "2953                                               5   \n",
       "2954                                               5   \n",
       "2955                                               1   \n",
       "2956                                               6   \n",
       "2957                                               4   \n",
       "\n",
       "      Q4-How many activities are you Passionate about ?  \\\n",
       "0                                                     1   \n",
       "1                                                     3   \n",
       "2                                                     5   \n",
       "3                                                     3   \n",
       "4                                                     5   \n",
       "...                                                 ...   \n",
       "2953                                                  8   \n",
       "2954                                                  2   \n",
       "2955                                                  2   \n",
       "2956                                                  2   \n",
       "2957                                                  2   \n",
       "\n",
       "      Q5-What are your levels of stress ?  \\\n",
       "0                                       1   \n",
       "1                                       1   \n",
       "2                                       2   \n",
       "3                                       7   \n",
       "4                                       4   \n",
       "...                                   ...   \n",
       "2953                                    3   \n",
       "2954                                    1   \n",
       "2955                                    1   \n",
       "2956                                    3   \n",
       "2957                                    3   \n",
       "\n",
       "      Q6-How Satisfied You are with your Student Life ?  \\\n",
       "0                                                     2   \n",
       "1                                                     2   \n",
       "2                                                     2   \n",
       "3                                                     1   \n",
       "4                                                     2   \n",
       "...                                                 ...   \n",
       "2953                                                  2   \n",
       "2954                                                  2   \n",
       "2955                                                  3   \n",
       "2956                                                  3   \n",
       "2957                                                  2   \n",
       "\n",
       "     Q7-How much effort do you make to interact with others ?  \\\n",
       "0                                                   2.0         \n",
       "1                                                   2.0         \n",
       "2                                                   2.0         \n",
       "3                                                   1.0         \n",
       "4                                                   2.0         \n",
       "...                                                 ...         \n",
       "2953                                                  2         \n",
       "2954                                                  2         \n",
       "2955                                                  2         \n",
       "2956                                                  2         \n",
       "2957                                                  2         \n",
       "\n",
       "     Q8-About How events are you aware about ?  \n",
       "0                                          2.0  \n",
       "1                                          3.0  \n",
       "2                                          2.0  \n",
       "3                                          1.0  \n",
       "4                                          2.0  \n",
       "...                                        ...  \n",
       "2953                                         2  \n",
       "2954                                         2  \n",
       "2955                                         2  \n",
       "2956                                         2  \n",
       "2957                                         2  \n",
       "\n",
       "[2958 rows x 16 columns]"
      ]
     },
     "execution_count": 18,
     "metadata": {},
     "output_type": "execute_result"
    }
   ],
   "source": [
    "newdata=data.drop(['Year since Matriculation','response_id','Q9-What is an ideal student life ?'],axis=1)\n",
    "newdata"
   ]
  },
  {
   "cell_type": "code",
   "execution_count": 19,
   "metadata": {
    "colab": {
     "base_uri": "https://localhost:8080/"
    },
    "id": "LbiBnmAq_Gz8",
    "outputId": "cf38b1e7-31a1-4353-f402-b6a4d1d79f45"
   },
   "outputs": [
    {
     "data": {
      "text/plain": [
       "Index(['Career', 'Citizenship', 'Nationality', 'Year of Study',\n",
       "       'Primary Programme', 'Gender', 'Department', 'Housing Type',\n",
       "       'Q1-How many events have you Volunteered in ?',\n",
       "       'Q2-How many events have you Participated in ?',\n",
       "       'Q3-How many activities are you Interested in ?',\n",
       "       'Q4-How many activities are you Passionate about ?',\n",
       "       'Q5-What are your levels of stress ?',\n",
       "       'Q6-How Satisfied You are with your Student Life ?',\n",
       "       'Q7-How much effort do you make to interact with others ?',\n",
       "       'Q8-About How events are you aware about ?'],\n",
       "      dtype='object')"
      ]
     },
     "execution_count": 19,
     "metadata": {},
     "output_type": "execute_result"
    }
   ],
   "source": [
    "newdata.columns"
   ]
  },
  {
   "cell_type": "code",
   "execution_count": 20,
   "metadata": {
    "colab": {
     "base_uri": "https://localhost:8080/"
    },
    "id": "jkVMCsTe_Kd6",
    "outputId": "7c36f348-ab18-4325-f493-3ee62be9ef4b"
   },
   "outputs": [
    {
     "name": "stdout",
     "output_type": "stream",
     "text": [
      "<class 'pandas.core.frame.DataFrame'>\n",
      "RangeIndex: 2958 entries, 0 to 2957\n",
      "Data columns (total 16 columns):\n",
      " #   Column                                                    Non-Null Count  Dtype \n",
      "---  ------                                                    --------------  ----- \n",
      " 0   Career                                                    2958 non-null   object\n",
      " 1   Citizenship                                               2958 non-null   object\n",
      " 2   Nationality                                               2958 non-null   object\n",
      " 3   Year of Study                                             2958 non-null   int64 \n",
      " 4   Primary Programme                                         2958 non-null   object\n",
      " 5   Gender                                                    2958 non-null   object\n",
      " 6   Department                                                2958 non-null   object\n",
      " 7   Housing Type                                              2958 non-null   object\n",
      " 8   Q1-How many events have you Volunteered in ?              2958 non-null   int64 \n",
      " 9   Q2-How many events have you Participated in ?             2958 non-null   int64 \n",
      " 10  Q3-How many activities are you Interested in ?            2958 non-null   int64 \n",
      " 11  Q4-How many activities are you Passionate about ?         2958 non-null   int64 \n",
      " 12  Q5-What are your levels of stress ?                       2958 non-null   int64 \n",
      " 13  Q6-How Satisfied You are with your Student Life ?         2958 non-null   int64 \n",
      " 14  Q7-How much effort do you make to interact with others ?  2958 non-null   object\n",
      " 15  Q8-About How events are you aware about ?                 2958 non-null   object\n",
      "dtypes: int64(7), object(9)\n",
      "memory usage: 369.9+ KB\n"
     ]
    }
   ],
   "source": [
    "newdata.info()"
   ]
  },
  {
   "cell_type": "markdown",
   "metadata": {
    "id": "KCbAxyHY_SNK"
   },
   "source": [
    "## Data Visualization"
   ]
  },
  {
   "cell_type": "code",
   "execution_count": 21,
   "metadata": {
    "id": "kJ4tfMUk_PSC"
   },
   "outputs": [],
   "source": [
    "import matplotlib.pyplot as plt\n",
    "%matplotlib inline\n",
    "import seaborn as sns"
   ]
  },
  {
   "cell_type": "code",
   "execution_count": 22,
   "metadata": {
    "colab": {
     "base_uri": "https://localhost:8080/"
    },
    "id": "M2A3aES0_ZXf",
    "outputId": "6fe853d8-b47b-4054-eea4-8af032eeaadf"
   },
   "outputs": [
    {
     "data": {
      "text/plain": [
       "UGRD    2694\n",
       "GRAD     218\n",
       "NGRD      46\n",
       "Name: Career, dtype: int64"
      ]
     },
     "execution_count": 22,
     "metadata": {},
     "output_type": "execute_result"
    }
   ],
   "source": [
    "newdata['Career'].value_counts()"
   ]
  },
  {
   "cell_type": "code",
   "execution_count": 23,
   "metadata": {
    "colab": {
     "base_uri": "https://localhost:8080/",
     "height": 392
    },
    "id": "EKONw-t7_fhJ",
    "outputId": "06a76583-6c97-49cb-c30b-ee86fdb719be"
   },
   "outputs": [
    {
     "data": {
      "text/plain": [
       "Text(0.5, 1.0, 'Career ')"
      ]
     },
     "execution_count": 23,
     "metadata": {},
     "output_type": "execute_result"
    },
    {
     "data": {
      "image/png": "[encoded data removed]",
      "text/plain": [
       "<Figure size 576x432 with 1 Axes>"
      ]
     },
     "metadata": {},
     "output_type": "display_data"
    }
   ],
   "source": [
    "newdata['Career'].value_counts().plot.pie(autopct='%.2f',figsize=(8,6),fontsize=12)\n",
    "plt.title('Career ',fontsize=16)"
   ]
  },
  {
   "cell_type": "markdown",
   "metadata": {
    "id": "okdPNCKzTnHP"
   },
   "source": [
    "Most of the people are from undergraduate career."
   ]
  },
  {
   "cell_type": "code",
   "execution_count": 24,
   "metadata": {
    "colab": {
     "base_uri": "https://localhost:8080/"
    },
    "id": "oSTuPoLf_x0e",
    "outputId": "1ddc67bb-95af-4b52-ba09-658ca01f4375"
   },
   "outputs": [
    {
     "data": {
      "text/plain": [
       "Country Citizen       2467\n",
       "Foreigner              343\n",
       "Permanent Resident     148\n",
       "Name: Citizenship, dtype: int64"
      ]
     },
     "execution_count": 24,
     "metadata": {},
     "output_type": "execute_result"
    }
   ],
   "source": [
    "newdata['Citizenship'].value_counts()"
   ]
  },
  {
   "cell_type": "code",
   "execution_count": 25,
   "metadata": {
    "colab": {
     "base_uri": "https://localhost:8080/",
     "height": 392
    },
    "id": "oTt5yqZPAXKT",
    "outputId": "47d85dec-030d-4b7f-dc3a-30d573fb6614"
   },
   "outputs": [
    {
     "data": {
      "text/plain": [
       "Text(0.5, 1.0, 'Citizenship')"
      ]
     },
     "execution_count": 25,
     "metadata": {},
     "output_type": "execute_result"
    },
    {
     "data": {
      "image/png": "[encoded data removed]",
      "text/plain": [
       "<Figure size 576x432 with 1 Axes>"
      ]
     },
     "metadata": {},
     "output_type": "display_data"
    }
   ],
   "source": [
    "newdata['Citizenship'].value_counts().plot.pie(autopct='%.2f',figsize=(8,6),fontsize=12)\n",
    "plt.title('Citizenship',fontsize=16)"
   ]
  },
  {
   "cell_type": "markdown",
   "metadata": {
    "id": "S9mi1LJuT1xq"
   },
   "source": [
    "Most od the people are Country Citizen."
   ]
  },
  {
   "cell_type": "code",
   "execution_count": 26,
   "metadata": {
    "colab": {
     "base_uri": "https://localhost:8080/"
    },
    "id": "8agVp-9nAfGI",
    "outputId": "32eed685-b726-4c24-fc43-9ddcef5106f7"
   },
   "outputs": [
    {
     "data": {
      "text/plain": [
       "Singapore                    2467\n",
       "China                         158\n",
       "Malaysia                      130\n",
       "India                          47\n",
       "Indonesia                      39\n",
       "Viet Nam                       20\n",
       "Canada                         17\n",
       "United States                  15\n",
       "Taiwan                         13\n",
       "Korea, Republic of             10\n",
       "Myanmar                         7\n",
       "Hong Kong                       4\n",
       "Philippines                     3\n",
       "Germany                         3\n",
       "Thailand                        3\n",
       "United Kingdom                  2\n",
       "Japan                           2\n",
       "Sri Lanka                       2\n",
       "Nepal                           2\n",
       "Mexico                          2\n",
       "Bangladesh                      2\n",
       "Pakistan                        1\n",
       "Switzerland                     1\n",
       "Israel                          1\n",
       "Australia                       1\n",
       "British National Overseas       1\n",
       "France                          1\n",
       "Poland                          1\n",
       "Denmark                         1\n",
       "Turkey                          1\n",
       "Netherlands                     1\n",
       "Name: Nationality, dtype: int64"
      ]
     },
     "execution_count": 26,
     "metadata": {},
     "output_type": "execute_result"
    }
   ],
   "source": [
    "newdata['Nationality'].value_counts()"
   ]
  },
  {
   "cell_type": "code",
   "execution_count": 27,
   "metadata": {
    "colab": {
     "base_uri": "https://localhost:8080/",
     "height": 584
    },
    "id": "uITr7g-XRScH",
    "outputId": "56231f53-c913-415e-95d0-2b0cc34f5ac4"
   },
   "outputs": [
    {
     "name": "stderr",
     "output_type": "stream",
     "text": [
      "C:\\Users\\Raman\\AppData\\Local\\Programs\\Python\\Python39\\lib\\site-packages\\seaborn\\_decorators.py:36: FutureWarning: Pass the following variables as keyword args: x, y. From version 0.12, the only valid positional argument will be `data`, and passing other arguments without an explicit keyword will result in an error or misinterpretation.\n",
      "  warnings.warn(\n"
     ]
    },
    {
     "data": {
      "image/png": "[encoded data removed]",
      "text/plain": [
       "<Figure size 1080x432 with 1 Axes>"
      ]
     },
     "metadata": {
      "needs_background": "light"
     },
     "output_type": "display_data"
    }
   ],
   "source": [
    "count1=newdata['Nationality'].value_counts()\n",
    "plt.figure(figsize=(15,6))\n",
    "sns.barplot(count1.index,count1.values, alpha=0.8)\n",
    "plt.title('Nationality', fontsize=20)\n",
    "plt.ylabel('Number of Persons', fontsize=15)\n",
    "plt.xlabel('Nations', fontsize=15)\n",
    "plt.xticks(rotation=90)\n",
    "plt.show()"
   ]
  },
  {
   "cell_type": "markdown",
   "metadata": {
    "id": "SmA8t8PBULgg"
   },
   "source": [
    "Most of people are from Singapore."
   ]
  },
  {
   "cell_type": "code",
   "execution_count": 28,
   "metadata": {
    "colab": {
     "base_uri": "https://localhost:8080/"
    },
    "id": "KybQHs9gAtbc",
    "outputId": "217464ea-8238-4ff6-b3ac-27952686d61c"
   },
   "outputs": [
    {
     "data": {
      "text/plain": [
       "1    1018\n",
       "2     819\n",
       "3     635\n",
       "4     465\n",
       "5      21\n",
       "Name: Year of Study, dtype: int64"
      ]
     },
     "execution_count": 28,
     "metadata": {},
     "output_type": "execute_result"
    }
   ],
   "source": [
    "newdata['Year of Study'].value_counts()"
   ]
  },
  {
   "cell_type": "code",
   "execution_count": 29,
   "metadata": {
    "colab": {
     "base_uri": "https://localhost:8080/",
     "height": 392
    },
    "id": "-caeHMpMA4qC",
    "outputId": "5c77285e-4580-4a7d-bdb1-a3a73582c89b"
   },
   "outputs": [
    {
     "data": {
      "text/plain": [
       "Text(0.5, 1.0, 'Year Of Study')"
      ]
     },
     "execution_count": 29,
     "metadata": {},
     "output_type": "execute_result"
    },
    {
     "data": {
      "image/png": "[encoded data removed]",
      "text/plain": [
       "<Figure size 576x432 with 1 Axes>"
      ]
     },
     "metadata": {},
     "output_type": "display_data"
    }
   ],
   "source": [
    "newdata['Year of Study'].value_counts().plot.pie(autopct='%.2f',figsize=(8,6),fontsize=12)\n",
    "plt.title('Year Of Study',fontsize=16)"
   ]
  },
  {
   "cell_type": "markdown",
   "metadata": {
    "id": "j7PgWH4DUVIF"
   },
   "source": [
    "Most people are in the first year of their study field."
   ]
  },
  {
   "cell_type": "code",
   "execution_count": 30,
   "metadata": {
    "colab": {
     "base_uri": "https://localhost:8080/"
    },
    "id": "EG_pgIzeA9JL",
    "outputId": "4d3b4918-7cdf-4ee7-9a89-d1b0b6bd31dd"
   },
   "outputs": [
    {
     "data": {
      "text/plain": [
       "Bachelor of Arts              609\n",
       "Bachelor of Engineering       511\n",
       "Bachelor of Science           482\n",
       "Bachelor of Business Admin    307\n",
       "Bachelor of Science (SDE)     132\n",
       "                             ... \n",
       "Doctor of Philosophy (SPP)      1\n",
       "Doctor of Philosophy (SDE)      1\n",
       "Master of Urban Planning        1\n",
       "Doctor of Philosophy (BDG)      1\n",
       "Master of Arts                  1\n",
       "Name: Primary Programme, Length: 68, dtype: int64"
      ]
     },
     "execution_count": 30,
     "metadata": {},
     "output_type": "execute_result"
    }
   ],
   "source": [
    "newdata['Primary Programme'].value_counts()"
   ]
  },
  {
   "cell_type": "code",
   "execution_count": 31,
   "metadata": {
    "colab": {
     "base_uri": "https://localhost:8080/",
     "height": 632
    },
    "id": "WNFMj5P6RgYS",
    "outputId": "a77d6c2d-eb0b-47d1-d4e8-17b4502ba5fa"
   },
   "outputs": [
    {
     "name": "stderr",
     "output_type": "stream",
     "text": [
      "C:\\Users\\Raman\\AppData\\Local\\Programs\\Python\\Python39\\lib\\site-packages\\seaborn\\_decorators.py:36: FutureWarning: Pass the following variables as keyword args: x, y. From version 0.12, the only valid positional argument will be `data`, and passing other arguments without an explicit keyword will result in an error or misinterpretation.\n",
      "  warnings.warn(\n"
     ]
    },
    {
     "data": {
      "image/png": "[encoded data removed]",
      "text/plain": [
       "<Figure size 1080x432 with 1 Axes>"
      ]
     },
     "metadata": {
      "needs_background": "light"
     },
     "output_type": "display_data"
    }
   ],
   "source": [
    "count1=newdata['Primary Programme'].value_counts()\n",
    "plt.figure(figsize=(15,6))\n",
    "sns.barplot(count1.index,count1.values, alpha=0.8)\n",
    "plt.title('Primary Programme', fontsize=20)\n",
    "plt.ylabel('Number of Persons', fontsize=15)\n",
    "plt.xlabel('Fields', fontsize=15)\n",
    "plt.xticks(rotation=90)\n",
    "plt.show()"
   ]
  },
  {
   "cell_type": "markdown",
   "metadata": {
    "id": "wx6B2vajUipN"
   },
   "source": [
    "Most people are from Bachelor of Arts, Bachelor of Engineering and Bachelor of Science"
   ]
  },
  {
   "cell_type": "code",
   "execution_count": 32,
   "metadata": {
    "colab": {
     "base_uri": "https://localhost:8080/"
    },
    "id": "W7ZKLtznBNJ5",
    "outputId": "4557dbef-a3a3-48ac-dec2-cbcf31ad22a4"
   },
   "outputs": [
    {
     "data": {
      "text/plain": [
       "F    1899\n",
       "M    1059\n",
       "Name: Gender, dtype: int64"
      ]
     },
     "execution_count": 32,
     "metadata": {},
     "output_type": "execute_result"
    }
   ],
   "source": [
    "newdata['Gender'].value_counts()"
   ]
  },
  {
   "cell_type": "code",
   "execution_count": 33,
   "metadata": {
    "colab": {
     "base_uri": "https://localhost:8080/",
     "height": 392
    },
    "id": "0ZkpZPr9BTlj",
    "outputId": "37900a68-f970-43ef-fe55-aaf43d763858"
   },
   "outputs": [
    {
     "data": {
      "text/plain": [
       "Text(0.5, 1.0, 'Gender')"
      ]
     },
     "execution_count": 33,
     "metadata": {},
     "output_type": "execute_result"
    },
    {
     "data": {
      "image/png": "[encoded data removed]",
      "text/plain": [
       "<Figure size 576x432 with 1 Axes>"
      ]
     },
     "metadata": {},
     "output_type": "display_data"
    }
   ],
   "source": [
    "newdata['Gender'].value_counts().plot.pie(autopct='%.2f',figsize=(8,6),fontsize=12)\n",
    "plt.title('Gender',fontsize=16)"
   ]
  },
  {
   "cell_type": "code",
   "execution_count": 34,
   "metadata": {
    "colab": {
     "base_uri": "https://localhost:8080/"
    },
    "id": "rSTsF0FYBYAt",
    "outputId": "c2ec4309-6317-4a25-cbd2-4e500357e693"
   },
   "outputs": [
    {
     "data": {
      "text/plain": [
       "School of Arts & Social Science           743\n",
       "School of Science                         661\n",
       "School of Engineering                     562\n",
       "School of Business School                 318\n",
       "School of Design & Environment            171\n",
       "School of Computing                       138\n",
       "School of Medicine1                       126\n",
       "School of Law                              53\n",
       "School of Exchange Students                46\n",
       "School of Multi Disciplinary Programme     31\n",
       "School of Foreign College                  30\n",
       "School of Systems Science                  19\n",
       "School of International Science            16\n",
       "School of Dentistry                        14\n",
       "School of Medicine2                        10\n",
       "School of Conservatory of Music             6\n",
       "School of Public Policy                     6\n",
       "School of Public Health                     3\n",
       "School of Cont & Lifelong Edun              3\n",
       "School of Defence System                    1\n",
       "School of Risk Management                   1\n",
       "Name: Department, dtype: int64"
      ]
     },
     "execution_count": 34,
     "metadata": {},
     "output_type": "execute_result"
    }
   ],
   "source": [
    "newdata['Department'].value_counts()"
   ]
  },
  {
   "cell_type": "code",
   "execution_count": 35,
   "metadata": {
    "colab": {
     "base_uri": "https://localhost:8080/",
     "height": 653
    },
    "id": "UOUWqq-4R3p9",
    "outputId": "68afc597-7e22-402e-9c0e-de9494bdab04"
   },
   "outputs": [
    {
     "name": "stderr",
     "output_type": "stream",
     "text": [
      "C:\\Users\\Raman\\AppData\\Local\\Programs\\Python\\Python39\\lib\\site-packages\\seaborn\\_decorators.py:36: FutureWarning: Pass the following variables as keyword args: x, y. From version 0.12, the only valid positional argument will be `data`, and passing other arguments without an explicit keyword will result in an error or misinterpretation.\n",
      "  warnings.warn(\n"
     ]
    },
    {
     "data": {
      "image/png": "[encoded data removed]",
      "text/plain": [
       "<Figure size 1080x432 with 1 Axes>"
      ]
     },
     "metadata": {
      "needs_background": "light"
     },
     "output_type": "display_data"
    }
   ],
   "source": [
    "count1=newdata['Department'].value_counts()\n",
    "plt.figure(figsize=(15,6))\n",
    "sns.barplot(count1.index,count1.values, alpha=0.8)\n",
    "plt.title('Department', fontsize=20)\n",
    "plt.ylabel('Number of Persons', fontsize=15)\n",
    "plt.xlabel('Name of the department', fontsize=15)\n",
    "plt.xticks(rotation=90)\n",
    "plt.show()"
   ]
  },
  {
   "cell_type": "code",
   "execution_count": 36,
   "metadata": {
    "colab": {
     "base_uri": "https://localhost:8080/"
    },
    "id": "o54SGxhZBidE",
    "outputId": "b9ac555b-2ee6-4701-e80d-187bb89f06aa"
   },
   "outputs": [
    {
     "data": {
      "text/plain": [
       "Out of Campus           2038\n",
       "Halls                    523\n",
       "Residential Colleges     263\n",
       "Residences               134\n",
       "Name: Housing Type, dtype: int64"
      ]
     },
     "execution_count": 36,
     "metadata": {},
     "output_type": "execute_result"
    }
   ],
   "source": [
    "newdata['Housing Type'].value_counts()"
   ]
  },
  {
   "cell_type": "code",
   "execution_count": 37,
   "metadata": {
    "colab": {
     "base_uri": "https://localhost:8080/",
     "height": 392
    },
    "id": "baVheU1eBpje",
    "outputId": "63bec80e-0835-4fed-a3ed-8698ffbe80f4"
   },
   "outputs": [
    {
     "data": {
      "text/plain": [
       "Text(0.5, 1.0, 'Housing Type')"
      ]
     },
     "execution_count": 37,
     "metadata": {},
     "output_type": "execute_result"
    },
    {
     "data": {
      "image/png": "[encoded data removed]",
      "text/plain": [
       "<Figure size 576x432 with 1 Axes>"
      ]
     },
     "metadata": {},
     "output_type": "display_data"
    }
   ],
   "source": [
    "newdata['Housing Type'].value_counts().plot.pie(autopct='%.2f',figsize=(8,6),fontsize=12)\n",
    "plt.title('Housing Type',fontsize=16)"
   ]
  },
  {
   "cell_type": "markdown",
   "metadata": {
    "id": "WkzrmD3nVQWx"
   },
   "source": [
    "Most of the people live outside the campus."
   ]
  },
  {
   "cell_type": "markdown",
   "metadata": {
    "id": "8SXMJq4fSDpM"
   },
   "source": [
    "Visualizations for Survey Questions:"
   ]
  },
  {
   "cell_type": "code",
   "execution_count": 38,
   "metadata": {
    "colab": {
     "base_uri": "https://localhost:8080/",
     "height": 467
    },
    "id": "BTtY_5CPSKXZ",
    "outputId": "c035779e-5889-4b51-e686-120dcef98b7d"
   },
   "outputs": [
    {
     "name": "stderr",
     "output_type": "stream",
     "text": [
      "C:\\Users\\Raman\\AppData\\Local\\Programs\\Python\\Python39\\lib\\site-packages\\seaborn\\_decorators.py:36: FutureWarning: Pass the following variables as keyword args: x, y. From version 0.12, the only valid positional argument will be `data`, and passing other arguments without an explicit keyword will result in an error or misinterpretation.\n",
      "  warnings.warn(\n"
     ]
    },
    {
     "data": {
      "image/png": "[encoded data removed]",
      "text/plain": [
       "<Figure size 1080x432 with 1 Axes>"
      ]
     },
     "metadata": {
      "needs_background": "light"
     },
     "output_type": "display_data"
    }
   ],
   "source": [
    "count1=newdata['Q1-How many events have you Volunteered in ?'].value_counts()\n",
    "plt.figure(figsize=(15,6))\n",
    "sns.barplot(count1.index,count1.values, alpha=0.8)\n",
    "plt.title('How many events have you Volunteered in ?', fontsize=20)\n",
    "plt.ylabel('Number of Persons', fontsize=15)\n",
    "plt.xlabel('Responses', fontsize=15)\n",
    "plt.show()"
   ]
  },
  {
   "cell_type": "code",
   "execution_count": 39,
   "metadata": {
    "colab": {
     "base_uri": "https://localhost:8080/",
     "height": 467
    },
    "id": "IPRBE-2GSS18",
    "outputId": "fa910cdb-882c-4ded-a166-1bac8f93c23c"
   },
   "outputs": [
    {
     "name": "stderr",
     "output_type": "stream",
     "text": [
      "C:\\Users\\Raman\\AppData\\Local\\Programs\\Python\\Python39\\lib\\site-packages\\seaborn\\_decorators.py:36: FutureWarning: Pass the following variables as keyword args: x, y. From version 0.12, the only valid positional argument will be `data`, and passing other arguments without an explicit keyword will result in an error or misinterpretation.\n",
      "  warnings.warn(\n"
     ]
    },
    {
     "data": {
      "image/png": "[encoded data removed]",
      "text/plain": [
       "<Figure size 1080x432 with 1 Axes>"
      ]
     },
     "metadata": {
      "needs_background": "light"
     },
     "output_type": "display_data"
    }
   ],
   "source": [
    "count1=newdata['Q2-How many events have you Participated in ?'].value_counts()\n",
    "plt.figure(figsize=(15,6))\n",
    "sns.barplot(count1.index,count1.values, alpha=0.8)\n",
    "plt.title('How many events have you Participated in ?', fontsize=20)\n",
    "plt.ylabel('Number of Persons', fontsize=15)\n",
    "plt.xlabel('Responses', fontsize=15)\n",
    "plt.show()"
   ]
  },
  {
   "cell_type": "code",
   "execution_count": 40,
   "metadata": {
    "colab": {
     "base_uri": "https://localhost:8080/",
     "height": 467
    },
    "id": "6kVRB548SbpS",
    "outputId": "e6b523a9-6a36-4314-f5a2-6a038864d988"
   },
   "outputs": [
    {
     "name": "stderr",
     "output_type": "stream",
     "text": [
      "C:\\Users\\Raman\\AppData\\Local\\Programs\\Python\\Python39\\lib\\site-packages\\seaborn\\_decorators.py:36: FutureWarning: Pass the following variables as keyword args: x, y. From version 0.12, the only valid positional argument will be `data`, and passing other arguments without an explicit keyword will result in an error or misinterpretation.\n",
      "  warnings.warn(\n"
     ]
    },
    {
     "data": {
      "image/png": "[encoded data removed]",
      "text/plain": [
       "<Figure size 1080x432 with 1 Axes>"
      ]
     },
     "metadata": {
      "needs_background": "light"
     },
     "output_type": "display_data"
    }
   ],
   "source": [
    "count1=newdata['Q3-How many activities are you Interested in ?'].value_counts()\n",
    "plt.figure(figsize=(15,6))\n",
    "sns.barplot(count1.index,count1.values, alpha=0.8)\n",
    "plt.title('How many activities are you Interested in ?', fontsize=20)\n",
    "plt.ylabel('Number of Persons', fontsize=15)\n",
    "plt.xlabel('Responses', fontsize=15)\n",
    "plt.show()"
   ]
  },
  {
   "cell_type": "code",
   "execution_count": 41,
   "metadata": {
    "colab": {
     "base_uri": "https://localhost:8080/",
     "height": 467
    },
    "id": "stZ9fvTVSk0w",
    "outputId": "905caea1-da49-4ec7-e61a-936221870d70"
   },
   "outputs": [
    {
     "name": "stderr",
     "output_type": "stream",
     "text": [
      "C:\\Users\\Raman\\AppData\\Local\\Programs\\Python\\Python39\\lib\\site-packages\\seaborn\\_decorators.py:36: FutureWarning: Pass the following variables as keyword args: x, y. From version 0.12, the only valid positional argument will be `data`, and passing other arguments without an explicit keyword will result in an error or misinterpretation.\n",
      "  warnings.warn(\n"
     ]
    },
    {
     "data": {
      "image/png": "[encoded data removed]",
      "text/plain": [
       "<Figure size 1080x432 with 1 Axes>"
      ]
     },
     "metadata": {
      "needs_background": "light"
     },
     "output_type": "display_data"
    }
   ],
   "source": [
    "count1=newdata['Q4-How many activities are you Passionate about ?'].value_counts()\n",
    "plt.figure(figsize=(15,6))\n",
    "sns.barplot(count1.index,count1.values, alpha=0.8)\n",
    "plt.title('How many activities are you Passionate about ?', fontsize=20)\n",
    "plt.ylabel('Number of Persons', fontsize=15)\n",
    "plt.xlabel('Responses', fontsize=15)\n",
    "plt.show()"
   ]
  },
  {
   "cell_type": "code",
   "execution_count": 42,
   "metadata": {
    "colab": {
     "base_uri": "https://localhost:8080/",
     "height": 467
    },
    "id": "oX8ZPisbSzND",
    "outputId": "3f760a38-cd7e-48b6-df9b-1c644063ad1f"
   },
   "outputs": [
    {
     "name": "stderr",
     "output_type": "stream",
     "text": [
      "C:\\Users\\Raman\\AppData\\Local\\Programs\\Python\\Python39\\lib\\site-packages\\seaborn\\_decorators.py:36: FutureWarning: Pass the following variables as keyword args: x, y. From version 0.12, the only valid positional argument will be `data`, and passing other arguments without an explicit keyword will result in an error or misinterpretation.\n",
      "  warnings.warn(\n"
     ]
    },
    {
     "data": {
      "image/png": "[encoded data removed]",
      "text/plain": [
       "<Figure size 1080x432 with 1 Axes>"
      ]
     },
     "metadata": {
      "needs_background": "light"
     },
     "output_type": "display_data"
    }
   ],
   "source": [
    "count1=newdata['Q6-How Satisfied You are with your Student Life ?'].value_counts()\n",
    "plt.figure(figsize=(15,6))\n",
    "sns.barplot(count1.index,count1.values, alpha=0.8)\n",
    "plt.title('How Satisfied You are with your Student Life ?', fontsize=20)\n",
    "plt.ylabel('Number of Persons', fontsize=15)\n",
    "plt.xlabel('Responses', fontsize=15)\n",
    "plt.show()"
   ]
  },
  {
   "cell_type": "code",
   "execution_count": 43,
   "metadata": {
    "colab": {
     "base_uri": "https://localhost:8080/",
     "height": 467
    },
    "id": "wOam_XONS7xD",
    "outputId": "41f36586-e21f-4302-e7e7-cee0088dc02e"
   },
   "outputs": [
    {
     "name": "stderr",
     "output_type": "stream",
     "text": [
      "C:\\Users\\Raman\\AppData\\Local\\Programs\\Python\\Python39\\lib\\site-packages\\seaborn\\_decorators.py:36: FutureWarning: Pass the following variables as keyword args: x, y. From version 0.12, the only valid positional argument will be `data`, and passing other arguments without an explicit keyword will result in an error or misinterpretation.\n",
      "  warnings.warn(\n"
     ]
    },
    {
     "data": {
      "image/png": "[encoded data removed]",
      "text/plain": [
       "<Figure size 1080x432 with 1 Axes>"
      ]
     },
     "metadata": {
      "needs_background": "light"
     },
     "output_type": "display_data"
    }
   ],
   "source": [
    "count1=newdata['Q7-How much effort do you make to interact with others ?'].value_counts()\n",
    "plt.figure(figsize=(15,6))\n",
    "sns.barplot(count1.index,count1.values, alpha=0.8)\n",
    "plt.title('How much effort do you make to interact with others ?', fontsize=20)\n",
    "plt.ylabel('Number of Persons', fontsize=15)\n",
    "plt.xlabel('Responses', fontsize=15)\n",
    "plt.show()"
   ]
  },
  {
   "cell_type": "code",
   "execution_count": 44,
   "metadata": {
    "colab": {
     "base_uri": "https://localhost:8080/",
     "height": 467
    },
    "id": "ONeW-SNiTFxJ",
    "outputId": "f90e9050-3470-4575-9ba4-69f4d6d3739b"
   },
   "outputs": [
    {
     "name": "stderr",
     "output_type": "stream",
     "text": [
      "C:\\Users\\Raman\\AppData\\Local\\Programs\\Python\\Python39\\lib\\site-packages\\seaborn\\_decorators.py:36: FutureWarning: Pass the following variables as keyword args: x, y. From version 0.12, the only valid positional argument will be `data`, and passing other arguments without an explicit keyword will result in an error or misinterpretation.\n",
      "  warnings.warn(\n"
     ]
    },
    {
     "data": {
      "image/png": "[encoded data removed]",
      "text/plain": [
       "<Figure size 1080x432 with 1 Axes>"
      ]
     },
     "metadata": {
      "needs_background": "light"
     },
     "output_type": "display_data"
    }
   ],
   "source": [
    "count1=newdata['Q8-About How events are you aware about ?'].value_counts()\n",
    "plt.figure(figsize=(15,6))\n",
    "sns.barplot(count1.index,count1.values, alpha=0.8)\n",
    "plt.title('About How events are you aware about ?', fontsize=20)\n",
    "plt.ylabel('Number of Persons', fontsize=15)\n",
    "plt.xlabel('Responses', fontsize=15)\n",
    "plt.show()"
   ]
  },
  {
   "cell_type": "markdown",
   "metadata": {
    "id": "vBE0tMtQEUmn"
   },
   "source": [
    "## Data Training"
   ]
  },
  {
   "cell_type": "code",
   "execution_count": 45,
   "metadata": {
    "colab": {
     "base_uri": "https://localhost:8080/"
    },
    "id": "jrL1CAWUEhye",
    "outputId": "41e178e0-8127-4eda-c93d-fb2accbc81be"
   },
   "outputs": [
    {
     "data": {
      "text/plain": [
       "Index(['Career', 'Citizenship', 'Nationality', 'Year of Study',\n",
       "       'Primary Programme', 'Gender', 'Department', 'Housing Type',\n",
       "       'Q1-How many events have you Volunteered in ?',\n",
       "       'Q2-How many events have you Participated in ?',\n",
       "       'Q3-How many activities are you Interested in ?',\n",
       "       'Q4-How many activities are you Passionate about ?',\n",
       "       'Q5-What are your levels of stress ?',\n",
       "       'Q6-How Satisfied You are with your Student Life ?',\n",
       "       'Q7-How much effort do you make to interact with others ?',\n",
       "       'Q8-About How events are you aware about ?'],\n",
       "      dtype='object')"
      ]
     },
     "execution_count": 45,
     "metadata": {},
     "output_type": "execute_result"
    }
   ],
   "source": [
    "newdata.columns"
   ]
  },
  {
   "cell_type": "code",
   "execution_count": 46,
   "metadata": {
    "colab": {
     "base_uri": "https://localhost:8080/",
     "height": 465
    },
    "id": "EmUo6704EYbR",
    "outputId": "92140f63-fdae-42ce-8fd9-ce259b317917"
   },
   "outputs": [
    {
     "data": {
      "text/html": [
       "<div>\n",
       "<style scoped>\n",
       "    .dataframe tbody tr th:only-of-type {\n",
       "        vertical-align: middle;\n",
       "    }\n",
       "\n",
       "    .dataframe tbody tr th {\n",
       "        vertical-align: top;\n",
       "    }\n",
       "\n",
       "    .dataframe thead th {\n",
       "        text-align: right;\n",
       "    }\n",
       "</style>\n",
       "<table border=\"1\" class=\"dataframe\">\n",
       "  <thead>\n",
       "    <tr style=\"text-align: right;\">\n",
       "      <th></th>\n",
       "      <th>Q1-How many events have you Volunteered in ?</th>\n",
       "      <th>Q2-How many events have you Participated in ?</th>\n",
       "      <th>Q3-How many activities are you Interested in ?</th>\n",
       "      <th>Q4-How many activities are you Passionate about ?</th>\n",
       "      <th>Q5-What are your levels of stress ?</th>\n",
       "      <th>Q6-How Satisfied You are with your Student Life ?</th>\n",
       "      <th>Q7-How much effort do you make to interact with others ?</th>\n",
       "      <th>Q8-About How events are you aware about ?</th>\n",
       "    </tr>\n",
       "  </thead>\n",
       "  <tbody>\n",
       "    <tr>\n",
       "      <th>0</th>\n",
       "      <td>0</td>\n",
       "      <td>1</td>\n",
       "      <td>3</td>\n",
       "      <td>1</td>\n",
       "      <td>1</td>\n",
       "      <td>2</td>\n",
       "      <td>2.0</td>\n",
       "      <td>2.0</td>\n",
       "    </tr>\n",
       "    <tr>\n",
       "      <th>1</th>\n",
       "      <td>0</td>\n",
       "      <td>1</td>\n",
       "      <td>2</td>\n",
       "      <td>3</td>\n",
       "      <td>1</td>\n",
       "      <td>2</td>\n",
       "      <td>2.0</td>\n",
       "      <td>3.0</td>\n",
       "    </tr>\n",
       "    <tr>\n",
       "      <th>2</th>\n",
       "      <td>3</td>\n",
       "      <td>1</td>\n",
       "      <td>1</td>\n",
       "      <td>5</td>\n",
       "      <td>2</td>\n",
       "      <td>2</td>\n",
       "      <td>2.0</td>\n",
       "      <td>2.0</td>\n",
       "    </tr>\n",
       "    <tr>\n",
       "      <th>3</th>\n",
       "      <td>3</td>\n",
       "      <td>4</td>\n",
       "      <td>3</td>\n",
       "      <td>3</td>\n",
       "      <td>7</td>\n",
       "      <td>1</td>\n",
       "      <td>1.0</td>\n",
       "      <td>1.0</td>\n",
       "    </tr>\n",
       "    <tr>\n",
       "      <th>4</th>\n",
       "      <td>4</td>\n",
       "      <td>3</td>\n",
       "      <td>4</td>\n",
       "      <td>5</td>\n",
       "      <td>4</td>\n",
       "      <td>2</td>\n",
       "      <td>2.0</td>\n",
       "      <td>2.0</td>\n",
       "    </tr>\n",
       "    <tr>\n",
       "      <th>...</th>\n",
       "      <td>...</td>\n",
       "      <td>...</td>\n",
       "      <td>...</td>\n",
       "      <td>...</td>\n",
       "      <td>...</td>\n",
       "      <td>...</td>\n",
       "      <td>...</td>\n",
       "      <td>...</td>\n",
       "    </tr>\n",
       "    <tr>\n",
       "      <th>2953</th>\n",
       "      <td>0</td>\n",
       "      <td>1</td>\n",
       "      <td>5</td>\n",
       "      <td>8</td>\n",
       "      <td>3</td>\n",
       "      <td>2</td>\n",
       "      <td>2</td>\n",
       "      <td>2</td>\n",
       "    </tr>\n",
       "    <tr>\n",
       "      <th>2954</th>\n",
       "      <td>1</td>\n",
       "      <td>1</td>\n",
       "      <td>5</td>\n",
       "      <td>2</td>\n",
       "      <td>1</td>\n",
       "      <td>2</td>\n",
       "      <td>2</td>\n",
       "      <td>2</td>\n",
       "    </tr>\n",
       "    <tr>\n",
       "      <th>2955</th>\n",
       "      <td>0</td>\n",
       "      <td>1</td>\n",
       "      <td>1</td>\n",
       "      <td>2</td>\n",
       "      <td>1</td>\n",
       "      <td>3</td>\n",
       "      <td>2</td>\n",
       "      <td>2</td>\n",
       "    </tr>\n",
       "    <tr>\n",
       "      <th>2956</th>\n",
       "      <td>3</td>\n",
       "      <td>2</td>\n",
       "      <td>6</td>\n",
       "      <td>2</td>\n",
       "      <td>3</td>\n",
       "      <td>3</td>\n",
       "      <td>2</td>\n",
       "      <td>2</td>\n",
       "    </tr>\n",
       "    <tr>\n",
       "      <th>2957</th>\n",
       "      <td>2</td>\n",
       "      <td>2</td>\n",
       "      <td>4</td>\n",
       "      <td>2</td>\n",
       "      <td>3</td>\n",
       "      <td>2</td>\n",
       "      <td>2</td>\n",
       "      <td>2</td>\n",
       "    </tr>\n",
       "  </tbody>\n",
       "</table>\n",
       "<p>2958 rows × 8 columns</p>\n",
       "</div>"
      ],
      "text/plain": [
       "      Q1-How many events have you Volunteered in ?  \\\n",
       "0                                                0   \n",
       "1                                                0   \n",
       "2                                                3   \n",
       "3                                                3   \n",
       "4                                                4   \n",
       "...                                            ...   \n",
       "2953                                             0   \n",
       "2954                                             1   \n",
       "2955                                             0   \n",
       "2956                                             3   \n",
       "2957                                             2   \n",
       "\n",
       "      Q2-How many events have you Participated in ?  \\\n",
       "0                                                 1   \n",
       "1                                                 1   \n",
       "2                                                 1   \n",
       "3                                                 4   \n",
       "4                                                 3   \n",
       "...                                             ...   \n",
       "2953                                              1   \n",
       "2954                                              1   \n",
       "2955                                              1   \n",
       "2956                                              2   \n",
       "2957                                              2   \n",
       "\n",
       "      Q3-How many activities are you Interested in ?  \\\n",
       "0                                                  3   \n",
       "1                                                  2   \n",
       "2                                                  1   \n",
       "3                                                  3   \n",
       "4                                                  4   \n",
       "...                                              ...   \n",
       "2953                                               5   \n",
       "2954                                               5   \n",
       "2955                                               1   \n",
       "2956                                               6   \n",
       "2957                                               4   \n",
       "\n",
       "      Q4-How many activities are you Passionate about ?  \\\n",
       "0                                                     1   \n",
       "1                                                     3   \n",
       "2                                                     5   \n",
       "3                                                     3   \n",
       "4                                                     5   \n",
       "...                                                 ...   \n",
       "2953                                                  8   \n",
       "2954                                                  2   \n",
       "2955                                                  2   \n",
       "2956                                                  2   \n",
       "2957                                                  2   \n",
       "\n",
       "      Q5-What are your levels of stress ?  \\\n",
       "0                                       1   \n",
       "1                                       1   \n",
       "2                                       2   \n",
       "3                                       7   \n",
       "4                                       4   \n",
       "...                                   ...   \n",
       "2953                                    3   \n",
       "2954                                    1   \n",
       "2955                                    1   \n",
       "2956                                    3   \n",
       "2957                                    3   \n",
       "\n",
       "      Q6-How Satisfied You are with your Student Life ?  \\\n",
       "0                                                     2   \n",
       "1                                                     2   \n",
       "2                                                     2   \n",
       "3                                                     1   \n",
       "4                                                     2   \n",
       "...                                                 ...   \n",
       "2953                                                  2   \n",
       "2954                                                  2   \n",
       "2955                                                  3   \n",
       "2956                                                  3   \n",
       "2957                                                  2   \n",
       "\n",
       "     Q7-How much effort do you make to interact with others ?  \\\n",
       "0                                                   2.0         \n",
       "1                                                   2.0         \n",
       "2                                                   2.0         \n",
       "3                                                   1.0         \n",
       "4                                                   2.0         \n",
       "...                                                 ...         \n",
       "2953                                                  2         \n",
       "2954                                                  2         \n",
       "2955                                                  2         \n",
       "2956                                                  2         \n",
       "2957                                                  2         \n",
       "\n",
       "     Q8-About How events are you aware about ?  \n",
       "0                                          2.0  \n",
       "1                                          3.0  \n",
       "2                                          2.0  \n",
       "3                                          1.0  \n",
       "4                                          2.0  \n",
       "...                                        ...  \n",
       "2953                                         2  \n",
       "2954                                         2  \n",
       "2955                                         2  \n",
       "2956                                         2  \n",
       "2957                                         2  \n",
       "\n",
       "[2958 rows x 8 columns]"
      ]
     },
     "execution_count": 46,
     "metadata": {},
     "output_type": "execute_result"
    }
   ],
   "source": [
    "prepareddata=newdata.drop(['Career', 'Citizenship', 'Nationality', 'Year of Study','Primary Programme', 'Gender', 'Department', 'Housing Type'],axis=1)\n",
    "prepareddata"
   ]
  },
  {
   "cell_type": "code",
   "execution_count": 47,
   "metadata": {
    "colab": {
     "base_uri": "https://localhost:8080/"
    },
    "id": "IYMU0YCTFSQC",
    "outputId": "d1f412a8-a38c-46b1-a32c-17c828a99788"
   },
   "outputs": [
    {
     "name": "stdout",
     "output_type": "stream",
     "text": [
      "<class 'pandas.core.frame.DataFrame'>\n",
      "RangeIndex: 2958 entries, 0 to 2957\n",
      "Data columns (total 8 columns):\n",
      " #   Column                                                    Non-Null Count  Dtype\n",
      "---  ------                                                    --------------  -----\n",
      " 0   Q1-How many events have you Volunteered in ?              2958 non-null   int32\n",
      " 1   Q2-How many events have you Participated in ?             2958 non-null   int32\n",
      " 2   Q3-How many activities are you Interested in ?            2958 non-null   int32\n",
      " 3   Q4-How many activities are you Passionate about ?         2958 non-null   int32\n",
      " 4   Q5-What are your levels of stress ?                       2958 non-null   int32\n",
      " 5   Q6-How Satisfied You are with your Student Life ?         2958 non-null   int32\n",
      " 6   Q7-How much effort do you make to interact with others ?  2958 non-null   int32\n",
      " 7   Q8-About How events are you aware about ?                 2958 non-null   int32\n",
      "dtypes: int32(8)\n",
      "memory usage: 92.6 KB\n"
     ]
    }
   ],
   "source": [
    "#converting data into int datatype to avoid errors below.\n",
    "prepareddata=prepareddata.astype(int)\n",
    "prepareddata.info()"
   ]
  },
  {
   "cell_type": "code",
   "execution_count": 48,
   "metadata": {
    "colab": {
     "base_uri": "https://localhost:8080/"
    },
    "id": "NHCIrg6AFpEV",
    "outputId": "0656aa37-b8c1-487b-cff3-5b6a21c0c9e0"
   },
   "outputs": [
    {
     "data": {
      "text/plain": [
       "Index(['Q1-How many events have you Volunteered in ?',\n",
       "       'Q2-How many events have you Participated in ?',\n",
       "       'Q3-How many activities are you Interested in ?',\n",
       "       'Q4-How many activities are you Passionate about ?',\n",
       "       'Q5-What are your levels of stress ?',\n",
       "       'Q6-How Satisfied You are with your Student Life ?',\n",
       "       'Q7-How much effort do you make to interact with others ?',\n",
       "       'Q8-About How events are you aware about ?'],\n",
       "      dtype='object')"
      ]
     },
     "execution_count": 48,
     "metadata": {},
     "output_type": "execute_result"
    }
   ],
   "source": [
    "prepareddata.columns"
   ]
  },
  {
   "cell_type": "code",
   "execution_count": 49,
   "metadata": {
    "id": "nzR8z6_pER1L"
   },
   "outputs": [],
   "source": [
    "# Import train_test_split from sklearn.model_selection\n",
    "from sklearn.model_selection import train_test_split\n",
    "# Here, X is the data which will have features and y will have our target i.e. stress.\n",
    "x=prepareddata[['Q1-How many events have you Volunteered in ?',\n",
    "       'Q2-How many events have you Participated in ?',\n",
    "       'Q3-How many activities are you Interested in ?',\n",
    "       'Q4-How many activities are you Passionate about ?','Q6-How Satisfied You are with your Student Life ?',\n",
    "       'Q7-How much effort do you make to interact with others ?',\n",
    "       'Q8-About How events are you aware about ?']]  \n",
    "y=prepareddata['Q5-What are your levels of stress ?']"
   ]
  },
  {
   "cell_type": "code",
   "execution_count": 50,
   "metadata": {
    "id": "AE7nqYWUF-4A"
   },
   "outputs": [],
   "source": [
    "# Split data into training data and testing data\n",
    "x_train, x_test, y_train, y_test = train_test_split(x, y, test_size=0.2,random_state=500) \n",
    "#Ratio used for splitting training and testing data is 8:2 respectively."
   ]
  },
  {
   "cell_type": "code",
   "execution_count": 51,
   "metadata": {
    "colab": {
     "base_uri": "https://localhost:8080/"
    },
    "id": "QHrOptQYGFqr",
    "outputId": "47a29f39-f444-40b1-a0c3-7ba44a072b31"
   },
   "outputs": [
    {
     "data": {
      "text/plain": [
       "2366"
      ]
     },
     "execution_count": 51,
     "metadata": {},
     "output_type": "execute_result"
    }
   ],
   "source": [
    "#to view length of training data.\n",
    "len(x_train)"
   ]
  },
  {
   "cell_type": "code",
   "execution_count": 52,
   "metadata": {
    "colab": {
     "base_uri": "https://localhost:8080/"
    },
    "id": "uc3f4mH4GJ9G",
    "outputId": "affb5d00-afa9-4116-93b5-cb9e81a94c75"
   },
   "outputs": [
    {
     "data": {
      "text/plain": [
       "592"
      ]
     },
     "execution_count": 52,
     "metadata": {},
     "output_type": "execute_result"
    }
   ],
   "source": [
    "#to view length of testing data.\n",
    "len(x_test)"
   ]
  },
  {
   "cell_type": "markdown",
   "metadata": {
    "id": "c_LgE3hXEI9-"
   },
   "source": [
    "## Model Creation"
   ]
  },
  {
   "cell_type": "markdown",
   "metadata": {
    "id": "9RK8c39tGm1-"
   },
   "source": [
    "Decision Tree Regressor"
   ]
  },
  {
   "cell_type": "code",
   "execution_count": 53,
   "metadata": {
    "id": "d75glJvfGkGc"
   },
   "outputs": [],
   "source": [
    "# Importing decision tree regressor \n",
    "from sklearn.tree import DecisionTreeRegressor \n",
    "reg1 = DecisionTreeRegressor()"
   ]
  },
  {
   "cell_type": "code",
   "execution_count": 54,
   "metadata": {
    "colab": {
     "base_uri": "https://localhost:8080/"
    },
    "id": "6Er5oHrXHLNY",
    "outputId": "dca2de14-81f1-4c35-e7e0-6e57f8e8cd98"
   },
   "outputs": [
    {
     "data": {
      "text/plain": [
       "DecisionTreeRegressor()"
      ]
     },
     "execution_count": 54,
     "metadata": {},
     "output_type": "execute_result"
    }
   ],
   "source": [
    "#Fitting data into the model.\n",
    "reg1.fit(x_train, y_train)"
   ]
  },
  {
   "cell_type": "code",
   "execution_count": 55,
   "metadata": {
    "id": "TYNOZyK1HPZp"
   },
   "outputs": [],
   "source": [
    "# Making predictions on Test data \n",
    "pred1 = reg1.predict(x_test)"
   ]
  },
  {
   "cell_type": "code",
   "execution_count": 56,
   "metadata": {
    "colab": {
     "base_uri": "https://localhost:8080/"
    },
    "id": "Myc0IUxcHZrt",
    "outputId": "5454150d-603a-41d2-bae3-b6c38ed856d5"
   },
   "outputs": [
    {
     "data": {
      "text/plain": [
       "array([3.25      , 3.5       , 4.        , 2.5       , 2.        ,\n",
       "       2.5       , 5.        , 4.6       , 3.33333333, 2.        ,\n",
       "       2.        , 1.33333333, 1.66666667, 2.625     , 2.        ,\n",
       "       2.        , 2.        , 5.        , 3.        , 3.        ,\n",
       "       2.5       , 4.        , 4.        , 1.        , 4.        ,\n",
       "       2.        , 6.        , 3.25      , 4.        , 3.        ,\n",
       "       2.        , 1.        , 3.        , 2.4       , 2.625     ,\n",
       "       4.        , 3.66666667, 3.        , 3.        , 3.        ,\n",
       "       1.        , 2.5       , 1.        , 2.        , 2.        ,\n",
       "       1.        , 2.        , 4.        , 3.        , 3.14285714,\n",
       "       3.        , 5.        , 1.        , 4.33333333, 2.        ,\n",
       "       3.5       , 4.        , 1.        , 2.53846154, 3.5       ,\n",
       "       2.        , 4.        , 5.        , 4.66666667, 4.        ,\n",
       "       1.66666667, 3.        , 3.66666667, 4.        , 4.        ,\n",
       "       4.        , 4.5       , 2.        , 2.75      , 1.83333333,\n",
       "       2.        , 5.        , 6.        , 2.5       , 2.5       ,\n",
       "       3.66666667, 3.        , 3.        , 2.        , 2.        ,\n",
       "       3.        , 4.        , 2.        , 3.        , 1.83333333,\n",
       "       2.16666667, 1.75      , 4.5       , 3.        , 1.5       ,\n",
       "       2.        , 3.        , 2.        , 3.        , 2.        ,\n",
       "       2.75      , 2.11111111, 5.        , 5.        , 3.375     ,\n",
       "       2.        , 2.        , 2.5       , 3.        , 3.5       ,\n",
       "       3.        , 3.33333333, 9.        , 1.95454545, 3.        ,\n",
       "       5.        , 3.375     , 3.        , 1.66666667, 4.        ,\n",
       "       3.        , 2.        , 3.        , 4.        , 3.54545455,\n",
       "       3.        , 3.        , 1.        , 6.        , 5.        ,\n",
       "       2.11111111, 1.        , 4.        , 4.        , 3.11111111,\n",
       "       2.        , 6.        , 3.18181818, 6.        , 2.11111111,\n",
       "       3.        , 3.5       , 2.        , 4.        , 1.        ,\n",
       "       2.        , 4.        , 2.        , 6.        , 3.5       ,\n",
       "       3.66666667, 4.        , 3.        , 4.        , 1.        ,\n",
       "       9.        , 3.        , 5.        , 3.        , 1.        ,\n",
       "       4.        , 2.69230769, 2.        , 4.        , 3.5       ,\n",
       "       3.5       , 5.        , 2.2       , 3.        , 4.        ,\n",
       "       2.375     , 2.        , 5.        , 3.54545455, 3.        ,\n",
       "       2.5       , 2.08333333, 1.        , 5.        , 1.        ,\n",
       "       1.        , 7.        , 7.        , 3.        , 3.        ,\n",
       "       4.        , 2.        , 2.09090909, 2.        , 4.        ,\n",
       "       3.        , 6.        , 1.        , 3.33333333, 2.5       ,\n",
       "       3.        , 3.        , 2.625     , 7.        , 7.        ,\n",
       "       2.69230769, 2.        , 2.5       , 3.        , 8.        ,\n",
       "       2.        , 2.16666667, 2.33333333, 3.18181818, 1.6       ,\n",
       "       4.8       , 2.28571429, 3.        , 3.        , 2.5       ,\n",
       "       1.        , 1.        , 2.        , 3.        , 3.        ,\n",
       "       2.5       , 4.        , 3.375     , 3.        , 1.        ,\n",
       "       2.        , 3.        , 4.        , 3.        , 4.5       ,\n",
       "       5.        , 5.        , 3.5       , 2.625     , 3.        ,\n",
       "       1.33333333, 1.        , 2.        , 5.        , 4.        ,\n",
       "       4.        , 4.        , 6.        , 2.28571429, 1.        ,\n",
       "       2.5       , 6.        , 1.        , 1.        , 2.        ,\n",
       "       1.        , 2.        , 2.28571429, 1.        , 3.        ,\n",
       "       3.        , 1.        , 1.        , 3.        , 1.        ,\n",
       "       2.        , 1.        , 2.        , 6.        , 5.        ,\n",
       "       2.        , 2.625     , 6.        , 3.        , 2.        ,\n",
       "       5.        , 3.        , 4.        , 3.125     , 2.        ,\n",
       "       5.        , 2.        , 3.33333333, 2.75      , 2.5       ,\n",
       "       3.66666667, 2.        , 3.375     , 3.        , 2.        ,\n",
       "       6.        , 4.        , 5.        , 1.        , 2.        ,\n",
       "       7.        , 5.        , 2.5       , 5.        , 4.        ,\n",
       "       3.25      , 2.625     , 2.        , 2.33333333, 1.        ,\n",
       "       2.        , 1.66666667, 0.        , 4.6       , 1.        ,\n",
       "       6.        , 3.33333333, 4.        , 6.        , 2.66666667,\n",
       "       2.        , 3.54545455, 1.6       , 5.        , 2.        ,\n",
       "       6.        , 2.375     , 2.        , 5.        , 2.28571429,\n",
       "       1.        , 3.        , 3.5       , 2.        , 1.        ,\n",
       "       6.        , 2.16666667, 2.5       , 3.        , 2.        ,\n",
       "       3.66666667, 2.        , 6.        , 3.        , 1.        ,\n",
       "       2.        , 6.        , 4.        , 5.        , 2.        ,\n",
       "       3.        , 6.        , 1.        , 3.        , 3.        ,\n",
       "       5.        , 2.        , 2.11111111, 2.        , 3.        ,\n",
       "       3.        , 1.        , 7.        , 3.        , 2.5       ,\n",
       "       2.53846154, 8.        , 3.        , 1.57142857, 6.        ,\n",
       "       2.        , 1.95454545, 2.5       , 1.2       , 3.33333333,\n",
       "       3.        , 2.        , 3.125     , 9.        , 2.        ,\n",
       "       2.        , 2.08333333, 5.        , 2.        , 3.        ,\n",
       "       2.5       , 2.        , 5.        , 3.        , 1.        ,\n",
       "       3.        , 2.        , 5.        , 3.33333333, 2.        ,\n",
       "       3.        , 3.        , 3.        , 3.        , 2.28571429,\n",
       "       3.        , 4.        , 3.        , 2.        , 1.        ,\n",
       "       3.        , 2.        , 4.        , 4.66666667, 3.        ,\n",
       "       3.11111111, 1.5       , 2.        , 3.        , 2.        ,\n",
       "       4.        , 2.        , 1.66666667, 3.5       , 1.76923077,\n",
       "       5.        , 2.66666667, 3.        , 4.        , 2.        ,\n",
       "       2.        , 1.        , 1.95454545, 2.5       , 2.375     ,\n",
       "       1.        , 3.        , 2.        , 2.16666667, 2.        ,\n",
       "       5.        , 3.        , 3.        , 4.        , 3.        ,\n",
       "       2.        , 3.        , 2.5       , 2.625     , 4.5       ,\n",
       "       2.        , 3.        , 3.        , 2.        , 0.        ,\n",
       "       2.5       , 3.        , 3.        , 3.5       , 4.        ,\n",
       "       3.76923077, 2.69230769, 1.66666667, 2.        , 3.        ,\n",
       "       3.        , 1.        , 2.        , 1.6       , 1.        ,\n",
       "       4.66666667, 1.95454545, 4.        , 3.        , 1.6       ,\n",
       "       2.        , 4.        , 3.125     , 3.        , 1.        ,\n",
       "       5.        , 5.        , 6.        , 1.        , 5.        ,\n",
       "       2.5       , 4.        , 3.        , 1.33333333, 2.        ,\n",
       "       3.        , 2.8       , 0.        , 2.4       , 2.        ,\n",
       "       6.        , 2.11111111, 2.        , 2.        , 4.        ,\n",
       "       3.        , 2.        , 6.        , 9.        , 2.5       ,\n",
       "       3.        , 2.33333333, 5.        , 3.        , 4.        ,\n",
       "       2.5       , 6.        , 2.        , 2.        , 2.        ,\n",
       "       2.4       , 3.        , 3.        , 2.28571429, 3.5       ,\n",
       "       1.95454545, 6.        , 2.        , 3.        , 4.33333333,\n",
       "       4.        , 2.        , 2.        , 4.        , 0.        ,\n",
       "       3.        , 2.5       , 3.25      , 2.33333333, 4.        ,\n",
       "       5.        , 4.        , 2.        , 2.6       , 3.5       ,\n",
       "       2.33333333, 1.        , 3.        , 2.        , 5.        ,\n",
       "       2.        , 4.        , 3.5       , 1.95454545, 0.        ,\n",
       "       4.        , 2.        , 6.        , 2.5       , 3.        ,\n",
       "       3.        , 1.        , 2.        , 6.        , 1.5       ,\n",
       "       5.        , 3.25      , 5.        , 3.33333333, 3.        ,\n",
       "       4.5       , 2.66666667, 6.        , 2.33333333, 2.        ,\n",
       "       2.        , 2.08333333, 2.5       , 2.66666667, 6.        ,\n",
       "       1.        , 2.        , 6.        , 2.5       , 1.66666667,\n",
       "       3.33333333, 5.        , 2.        , 1.        , 4.        ,\n",
       "       2.        , 2.        , 2.        , 2.        , 5.        ,\n",
       "       2.66666667, 1.        , 2.08333333, 3.        , 1.        ,\n",
       "       5.        , 3.33333333, 4.        , 2.        , 6.        ,\n",
       "       1.        , 4.66666667, 7.        , 1.5       , 3.5       ,\n",
       "       2.        , 1.        ])"
      ]
     },
     "execution_count": 56,
     "metadata": {},
     "output_type": "execute_result"
    }
   ],
   "source": [
    "pred1"
   ]
  },
  {
   "cell_type": "code",
   "execution_count": 57,
   "metadata": {
    "colab": {
     "base_uri": "https://localhost:8080/"
    },
    "id": "j4SRIO4WHfny",
    "outputId": "71ce8b55-de5a-412f-a597-83ba28e46932"
   },
   "outputs": [
    {
     "name": "stdout",
     "output_type": "stream",
     "text": [
      "Accuracy of the Decision Tree Regressor  model comes to be: \n",
      " \n",
      "0.7248791634252187\n"
     ]
    }
   ],
   "source": [
    "print(\"Accuracy of the Decision Tree Regressor  model comes to be: \\n \") \n",
    "print(reg1.score(x_train,y_train))"
   ]
  },
  {
   "cell_type": "markdown",
   "metadata": {
    "id": "rf8j0d5DHiOa"
   },
   "source": [
    "Random Forest Regressor"
   ]
  },
  {
   "cell_type": "code",
   "execution_count": 58,
   "metadata": {
    "id": "SZJSWpWwHlJH"
   },
   "outputs": [],
   "source": [
    "#Importing random forest regressor \n",
    "from sklearn.ensemble import RandomForestRegressor \n",
    "reg2 = RandomForestRegressor(n_estimators=100)"
   ]
  },
  {
   "cell_type": "code",
   "execution_count": 59,
   "metadata": {
    "colab": {
     "base_uri": "https://localhost:8080/"
    },
    "id": "uXyBjnnYHpCX",
    "outputId": "e8a540c1-df9d-4307-8c04-99585846dc49"
   },
   "outputs": [
    {
     "data": {
      "text/plain": [
       "RandomForestRegressor()"
      ]
     },
     "execution_count": 59,
     "metadata": {},
     "output_type": "execute_result"
    }
   ],
   "source": [
    "# Fitting data into the model.\n",
    "reg2.fit(x_train, y_train)"
   ]
  },
  {
   "cell_type": "code",
   "execution_count": 60,
   "metadata": {
    "id": "hKFC4rhZHwCM"
   },
   "outputs": [],
   "source": [
    "#making predictions.\n",
    "pred2 = reg2.predict(x_test)"
   ]
  },
  {
   "cell_type": "code",
   "execution_count": 61,
   "metadata": {
    "colab": {
     "base_uri": "https://localhost:8080/"
    },
    "id": "mOxWoRrTHzJ4",
    "outputId": "8e643338-6b3d-4316-f0be-778efc3b2891"
   },
   "outputs": [
    {
     "data": {
      "text/plain": [
       "array([3.19117072, 3.27016667, 3.84      , 2.53188095, 1.97470447,\n",
       "       2.49271193, 5.532     , 4.54227381, 3.31628571, 3.64966667,\n",
       "       4.12142857, 1.7798254 , 1.69922619, 2.56932778, 1.84052381,\n",
       "       3.721     , 2.4975    , 4.92090476, 3.02817857, 2.80333333,\n",
       "       2.53142352, 3.975     , 3.41514827, 1.75083333, 3.48633333,\n",
       "       1.95172222, 5.13892857, 3.19117072, 3.47695076, 3.02784773,\n",
       "       5.82437698, 1.52233333, 2.94166667, 2.44201068, 2.64290207,\n",
       "       3.47695076, 3.90511111, 3.02784773, 3.45866667, 3.47488889,\n",
       "       2.05      , 2.41983333, 1.8725    , 2.81388889, 2.96628571,\n",
       "       1.75083333, 2.225     , 3.935     , 3.13407143, 3.09061483,\n",
       "       3.40933333, 3.914     , 2.20916667, 4.12362693, 2.26166667,\n",
       "       3.48671429, 3.536     , 3.13666667, 2.55167332, 3.54793038,\n",
       "       3.77166667, 3.14266667, 4.74805556, 4.86933333, 2.62666667,\n",
       "       1.71833095, 2.99760631, 3.53455556, 3.91233333, 3.9005    ,\n",
       "       3.17196276, 3.39633333, 2.34329365, 2.78525   , 1.78659307,\n",
       "       1.97833333, 4.585     , 4.06766667, 2.46121429, 2.67083333,\n",
       "       3.60020599, 2.9875    , 4.44      , 3.69190476, 2.52365873,\n",
       "       3.85833333, 3.96740476, 2.4945    , 3.345     , 1.78659307,\n",
       "       2.09001066, 1.6957381 , 3.81996032, 3.02784773, 1.80631177,\n",
       "       2.17166189, 3.02784773, 2.38775   , 2.7107669 , 3.33595238,\n",
       "       2.72457648, 2.06741361, 4.671     , 3.74083333, 3.49469761,\n",
       "       2.81380952, 2.71      , 3.33414425, 4.13243878, 3.48671429,\n",
       "       4.85033333, 2.97438095, 6.04      , 1.94510378, 3.89407143,\n",
       "       3.372     , 3.49469761, 2.90007143, 1.71833095, 3.11671429,\n",
       "       3.41      , 3.33595238, 3.08006349, 3.37716667, 3.60621487,\n",
       "       3.38      , 2.32612393, 2.60266667, 4.01866667, 2.56833333,\n",
       "       2.06741361, 1.08166234, 2.65297619, 3.1965    , 2.59881841,\n",
       "       2.61366667, 2.8675    , 3.16091212, 5.0865    , 2.06741361,\n",
       "       3.96      , 3.48671429, 1.97470447, 2.92816667, 2.967     ,\n",
       "       3.91766667, 2.88733333, 3.23966667, 4.41592063, 3.13316667,\n",
       "       3.60020599, 3.215     , 3.185     , 3.09060714, 2.19033333,\n",
       "       5.91      , 4.51866667, 3.75366667, 3.039     , 1.86704762,\n",
       "       3.85922222, 2.71258144, 2.145     , 3.87029762, 3.5365    ,\n",
       "       3.95283333, 4.90990476, 2.21388095, 3.02784773, 3.6575    ,\n",
       "       2.32738253, 3.94566667, 3.325     , 3.60621487, 3.02782582,\n",
       "       2.53188095, 2.12855831, 3.21502381, 3.75433333, 2.48169048,\n",
       "       2.715     , 4.795     , 4.777     , 3.296     , 2.81933333,\n",
       "       3.68183333, 2.0563    , 2.07650471, 2.8275    , 3.85916667,\n",
       "       2.91033333, 4.98016667, 2.35338528, 3.52355952, 2.50859127,\n",
       "       3.32      , 3.70633333, 2.64290207, 4.94      , 3.39333333,\n",
       "       2.71258144, 3.57      , 2.70058333, 3.935     , 3.63166667,\n",
       "       3.18383333, 2.09001066, 2.21871429, 3.16091212, 2.255329  ,\n",
       "       4.82605231, 2.31881982, 3.15033333, 4.55166667, 2.45457387,\n",
       "       2.299375  , 3.05683333, 2.88121484, 3.02784773, 3.19529762,\n",
       "       2.49771429, 4.06      , 3.34923701, 2.66363853, 2.00233333,\n",
       "       3.71833333, 2.73208333, 4.29      , 3.25516667, 3.81996032,\n",
       "       3.77666667, 3.07928571, 3.28564286, 2.64290207, 3.02782582,\n",
       "       1.87799206, 1.59974858, 2.20880556, 3.99      , 4.34458333,\n",
       "       4.33      , 3.48933333, 4.87816667, 2.31881982, 1.02      ,\n",
       "       2.53188095, 5.08916667, 3.16833333, 1.20880978, 2.34329365,\n",
       "       2.60933333, 4.9645    , 2.25481854, 1.63798413, 3.02784773,\n",
       "       3.63      , 2.94219048, 1.70666667, 3.02784773, 1.803     ,\n",
       "       2.5254942 , 1.08166234, 2.10518316, 4.71054792, 4.14035498,\n",
       "       2.01642857, 2.56932778, 4.9417381 , 3.45866667, 2.57134527,\n",
       "       4.47      , 2.46967119, 4.01575   , 3.09665512, 2.05      ,\n",
       "       3.70366667, 3.04306061, 3.52035714, 2.76267063, 2.56880952,\n",
       "       4.17633333, 3.7315    , 3.34923701, 3.29      , 2.225     ,\n",
       "       3.48066667, 3.63273954, 4.28358333, 3.11491667, 2.1395    ,\n",
       "       5.73666667, 4.65666667, 2.70058333, 4.08      , 3.64333333,\n",
       "       3.35842857, 2.64290207, 2.04125   , 2.21871429, 2.68133333,\n",
       "       2.31866667, 1.54652381, 1.82633658, 4.54227381, 1.70678571,\n",
       "       5.09588095, 3.42157143, 3.31833333, 4.04666667, 4.14254762,\n",
       "       2.51475   , 3.60621487, 1.63579257, 4.625     , 3.04306061,\n",
       "       5.08      , 2.32738253, 3.45713492, 3.16833333, 2.31881982,\n",
       "       2.04466667, 2.77038095, 3.48671429, 2.57134527, 1.17      ,\n",
       "       4.15244589, 2.09001066, 2.48206349, 3.13142857, 3.9325    ,\n",
       "       3.70787302, 2.37527778, 4.84133333, 1.59264286, 3.901     ,\n",
       "       3.23208333, 4.57      , 2.85066667, 2.79419048, 3.09666667,\n",
       "       2.76933333, 3.59266667, 3.165     , 3.35      , 3.61      ,\n",
       "       4.69854365, 2.34665589, 2.06741361, 2.892     , 1.9305377 ,\n",
       "       3.628     , 1.60466667, 4.92      , 2.92      , 2.26638095,\n",
       "       2.55167332, 3.69227381, 1.9305377 , 1.59736319, 4.64666667,\n",
       "       1.9495    , 1.94510378, 2.50859127, 1.18540476, 3.31628571,\n",
       "       3.34      , 2.29457937, 3.09665512, 4.70066667, 2.05      ,\n",
       "       2.88333333, 2.12855831, 3.92769048, 3.66885714, 3.02817857,\n",
       "       2.51073016, 2.23333333, 3.67166667, 2.8599329 , 2.87050397,\n",
       "       2.44260317, 1.97470447, 3.47566667, 2.83427778, 2.13235714,\n",
       "       3.21966667, 3.02782582, 3.07485714, 2.76758333, 2.31881982,\n",
       "       1.9305377 , 3.69571429, 3.4       , 2.04354167, 1.52894746,\n",
       "       3.34450794, 2.62033333, 3.89833333, 4.58688944, 2.82355556,\n",
       "       2.59881841, 2.36816667, 2.05342857, 2.53333333, 2.1352181 ,\n",
       "       3.37571429, 2.064     , 2.0955    , 3.69983333, 1.75763826,\n",
       "       3.445     , 2.61687302, 3.19529762, 3.915     , 3.18133333,\n",
       "       2.01633333, 1.02      , 1.94510378, 3.7037619 , 2.32738253,\n",
       "       3.56333333, 3.347     , 3.03833333, 2.09001066, 2.10518316,\n",
       "       3.24934524, 3.02782582, 3.02784773, 4.29416667, 3.05525119,\n",
       "       2.39757143, 3.1       , 2.66830952, 2.64290207, 4.54511111,\n",
       "       2.24      , 4.01      , 1.9305377 , 3.52516667, 1.8875    ,\n",
       "       2.45457387, 3.13407143, 3.7125    , 3.13316667, 3.89833333,\n",
       "       3.79664778, 2.71258144, 1.71833095, 2.00746032, 2.32934868,\n",
       "       3.19716667, 2.94016667, 1.97470447, 2.255329  , 1.        ,\n",
       "       3.89019805, 1.94510378, 4.02614286, 2.9827013 , 1.63579257,\n",
       "       2.92      , 4.03240476, 3.09665512, 4.71293742, 2.09433333,\n",
       "       4.235     , 4.14      , 5.08479865, 1.44011905, 2.90519048,\n",
       "       2.67083333, 2.5875    , 3.302     , 1.7798254 , 1.96503757,\n",
       "       4.168     , 2.78161833, 1.56373016, 2.31904257, 1.88772222,\n",
       "       4.71      , 2.06741361, 3.75333333, 3.30333333, 3.73      ,\n",
       "       3.02784773, 1.85489992, 3.77980952, 4.38666667, 2.67083333,\n",
       "       3.67      , 2.41581716, 2.72555556, 4.03333333, 3.61133333,\n",
       "       2.62128571, 4.621     , 2.05066667, 1.84067641, 2.0502381 ,\n",
       "       2.31904257, 3.06      , 2.67666667, 2.31881982, 3.59583333,\n",
       "       1.94510378, 4.73784722, 2.4465    , 3.02784773, 4.20030952,\n",
       "       3.7407381 , 1.8476746 , 4.06111111, 3.96534127, 1.8875    ,\n",
       "       2.54571429, 2.53188095, 3.35842857, 2.32496397, 4.54      ,\n",
       "       3.60566667, 7.1       , 2.94340476, 2.67416667, 1.96830403,\n",
       "       2.41581716, 1.54522222, 3.05165079, 3.09666667, 4.01679762,\n",
       "       2.51866667, 4.27277309, 2.60295238, 1.94510378, 1.465     ,\n",
       "       3.73197619, 2.225     , 3.56833333, 2.62128571, 3.02782582,\n",
       "       2.78872378, 3.11607143, 2.17      , 4.73784722, 1.61611905,\n",
       "       4.91333333, 3.35842857, 5.41666667, 3.31628571, 3.45333333,\n",
       "       5.44995238, 2.60066917, 4.58      , 2.62890476, 2.1415    ,\n",
       "       2.78055556, 2.12855831, 3.08860714, 2.45929762, 3.83233333,\n",
       "       1.52233333, 2.00390404, 4.44066667, 2.40806185, 1.71833095,\n",
       "       3.06914286, 2.60454762, 2.57134527, 3.31166667, 3.22      ,\n",
       "       2.1       , 1.84052381, 2.57134527, 2.17926515, 4.29785714,\n",
       "       2.60066917, 1.616     , 2.12855831, 3.24833333, 1.846     ,\n",
       "       3.27616667, 3.31628571, 4.93      , 2.51111905, 2.45538462,\n",
       "       2.085     , 4.4777381 , 4.136     , 3.26971429, 3.10497619,\n",
       "       2.73183333, 2.75166667])"
      ]
     },
     "execution_count": 61,
     "metadata": {},
     "output_type": "execute_result"
    }
   ],
   "source": [
    "pred2"
   ]
  },
  {
   "cell_type": "code",
   "execution_count": 62,
   "metadata": {
    "colab": {
     "base_uri": "https://localhost:8080/"
    },
    "id": "QFQGRfj-H0WV",
    "outputId": "cb50ab9c-7455-4fc0-bd63-25e5803bde81"
   },
   "outputs": [
    {
     "name": "stdout",
     "output_type": "stream",
     "text": [
      "Accuracy of the Random Forest Regressor  model comes to be: \n",
      " \n",
      "0.6488360123456507\n"
     ]
    }
   ],
   "source": [
    "print(\"Accuracy of the Random Forest Regressor  model comes to be: \\n \") \n",
    "print(reg2.score(x_train,y_train))"
   ]
  },
  {
   "cell_type": "markdown",
   "metadata": {
    "id": "Tu_0zY1O7qf0"
   },
   "source": [
    "Ridge Regression"
   ]
  },
  {
   "cell_type": "code",
   "execution_count": 63,
   "metadata": {
    "id": "yWZpRNBa7A-l"
   },
   "outputs": [],
   "source": [
    "# Importing model\n",
    "from sklearn.linear_model import Ridge\n",
    "reg3 = Ridge()"
   ]
  },
  {
   "cell_type": "code",
   "execution_count": 64,
   "metadata": {
    "colab": {
     "base_uri": "https://localhost:8080/"
    },
    "id": "6-d5vaaN7qCk",
    "outputId": "844b1e0f-c7ae-49dd-f8d1-b4c5af7b00c8"
   },
   "outputs": [
    {
     "data": {
      "text/plain": [
       "Ridge()"
      ]
     },
     "execution_count": 64,
     "metadata": {},
     "output_type": "execute_result"
    }
   ],
   "source": [
    "# Fitting data into the model.\n",
    "reg3.fit(x_train, y_train)"
   ]
  },
  {
   "cell_type": "code",
   "execution_count": 65,
   "metadata": {
    "id": "XxF_uHi07zTk"
   },
   "outputs": [],
   "source": [
    "# Making predictions \n",
    "pred3 = reg3.predict(x_test)"
   ]
  },
  {
   "cell_type": "code",
   "execution_count": 66,
   "metadata": {
    "colab": {
     "base_uri": "https://localhost:8080/"
    },
    "id": "l7CypusD73j_",
    "outputId": "bb5ac32b-9e7b-4a63-f9f0-503cb6bdec3f"
   },
   "outputs": [
    {
     "data": {
      "text/plain": [
       "array([2.89139722, 3.59338748, 3.2581251 , 2.3740723 , 2.37424758,\n",
       "       2.96356417, 4.76866835, 3.29044476, 2.80038679, 3.15628354,\n",
       "       3.26083785, 3.04250067, 2.97388889, 3.1270921 , 2.40965672,\n",
       "       3.20503803, 3.15465285, 3.3624132 , 2.2367297 , 3.86262061,\n",
       "       3.00861622, 3.4428051 , 3.17944346, 2.8915725 , 3.38308587,\n",
       "       2.32176263, 3.62519975, 2.89139722, 2.45928051, 2.53760024,\n",
       "       3.87232845, 2.47432584, 2.94574162, 2.55664223, 2.75387934,\n",
       "       2.45928051, 2.16394598, 2.53760024, 3.80545294, 3.35969666,\n",
       "       2.23207837, 2.75401293, 2.67848932, 3.7509375 , 2.92103014,\n",
       "       2.8915725 , 2.91723199, 4.00697296, 3.52576585, 3.30738699,\n",
       "       3.87151316, 2.89801472, 2.51791824, 3.14403433, 2.76334697,\n",
       "       3.38987866, 3.09962664, 2.80490888, 2.71789512, 2.29592786,\n",
       "       3.1881375 , 3.24550307, 2.76694383, 3.58904025, 2.47147571,\n",
       "       1.94810837, 2.63553704, 3.20907639, 3.71640869, 3.82396154,\n",
       "       2.04547009, 3.63065606, 2.36385794, 2.60359118, 3.02765821,\n",
       "       2.2490206 , 4.55221397, 3.05609856, 2.62861067, 3.09168297,\n",
       "       2.86430555, 3.23581836, 4.50320694, 4.59452189, 3.22489532,\n",
       "       3.80803589, 3.54270808, 2.89031561, 3.55482369, 3.02765821,\n",
       "       2.42927379, 2.50219111, 3.4256876 , 2.53760024, 2.83619573,\n",
       "       2.72206706, 2.53760024, 2.15342274, 2.95321621, 3.49035672,\n",
       "       2.63957539, 2.60956867, 3.48900803, 3.18174452, 2.84526356,\n",
       "       3.71031226, 2.54496811, 2.57300937, 3.17404105, 3.38987866,\n",
       "       3.01889925, 3.20585332, 4.65837572, 2.22993692, 4.09767113,\n",
       "       3.3887545 , 2.84526356, 2.7940355 , 1.94810837, 3.57882589,\n",
       "       3.62308532, 3.49035672, 2.86448083, 3.40131247, 2.7009529 ,\n",
       "       3.45766049, 2.49122638, 3.04585732, 3.70700961, 3.99206122,\n",
       "       2.60956867, 2.69206034, 2.67169654, 3.42897922, 2.91043921,\n",
       "       2.71771984, 3.54145119, 2.57358446, 3.88845538, 2.60956867,\n",
       "       3.10727651, 3.38987866, 2.37424758, 3.70880051, 3.59828336,\n",
       "       3.77955313, 3.18941762, 3.45152237, 2.98010659, 2.74368821,\n",
       "       2.86430555, 4.02407201, 3.16303464, 3.39459926, 2.76402878,\n",
       "       4.85255039, 2.89203723, 3.42423219, 2.8118206 , 2.87109834,\n",
       "       3.02474315, 2.6819109 , 3.45447922, 3.39649616, 3.65439118,\n",
       "       3.51693823, 2.92738143, 2.73693711, 2.53760024, 3.81780876,\n",
       "       2.855413  , 3.42701376, 3.06986013, 2.7009529 , 2.96373945,\n",
       "       2.3740723 , 2.51855825, 3.11751775, 3.57966877, 2.37235069,\n",
       "       4.00211496, 3.75687275, 3.58979061, 3.55577257, 2.830835  ,\n",
       "       3.60466066, 2.4716093 , 2.4102318 , 3.31603933, 3.37948901,\n",
       "       3.03526639, 3.03780765, 3.24197113, 2.50124223, 2.46525801,\n",
       "       2.5537921 , 3.40874537, 2.75387934, 5.16581741, 4.26129436,\n",
       "       2.6819109 , 3.95172978, 3.04460043, 4.05308817, 3.75510945,\n",
       "       3.51347496, 2.42927379, 2.94452218, 2.57358446, 2.62942595,\n",
       "       3.19906054, 2.39328957, 2.9533498 , 4.57819643, 2.99972366,\n",
       "       2.39732793, 3.41743941, 2.47205079, 2.53760024, 3.15292688,\n",
       "       3.19101087, 4.21533598, 2.82622157, 3.16711467, 2.86488064,\n",
       "       3.96269451, 2.03929408, 3.91085392, 3.45304983, 3.4256876 ,\n",
       "       2.62576053, 3.46438835, 3.34547097, 2.75387934, 2.96373945,\n",
       "       2.97650973, 1.98426787, 2.43606658, 3.36223792, 3.87956283,\n",
       "       4.57844855, 3.09925285, 4.12350591, 2.39328957, 2.71110234,\n",
       "       2.3740723 , 3.67003483, 3.63731536, 2.33133699, 2.36385794,\n",
       "       3.47939199, 3.64849326, 3.18001855, 1.94193236, 2.53760024,\n",
       "       3.01669348, 2.76916487, 2.96224236, 2.53760024, 1.85614907,\n",
       "       2.83474032, 2.69206034, 2.58454918, 3.43265566, 2.89221251,\n",
       "       3.37320265, 3.1270921 , 3.66328373, 3.74350036, 2.77292133,\n",
       "       4.39498649, 2.61649505, 3.24393731, 3.16307632, 2.59955282,\n",
       "       2.75615438, 2.46203494, 3.9244396 , 3.24556799, 2.70152798,\n",
       "       4.06023151, 3.42436578, 2.82622157, 4.5861401 , 2.91723199,\n",
       "       3.12749191, 3.31142534, 2.7988897 , 3.1349665 , 2.58265229,\n",
       "       4.0238735 , 4.15263231, 3.04460043, 3.78820185, 3.83342917,\n",
       "       2.98278144, 2.75387934, 2.55396738, 2.94452218, 3.58079206,\n",
       "       2.87513669, 3.46738299, 2.94723871, 3.29044476, 2.527077  ,\n",
       "       2.62263317, 3.1461341 , 3.11616906, 4.62918429, 3.92189834,\n",
       "       3.31627954, 2.7009529 , 2.56343502, 3.20920998, 2.46203494,\n",
       "       3.57913537, 2.855413  , 3.47535308, 2.61572145, 2.39328957,\n",
       "       2.59937755, 2.85523772, 3.38987866, 2.77292133, 1.67602946,\n",
       "       3.04609753, 2.42927379, 3.5168733 , 2.82602305, 3.63327701,\n",
       "       3.91592084, 2.99822657, 3.60808224, 2.08606774, 2.99010762,\n",
       "       3.2502886 , 4.10422709, 3.39184483, 2.54415282, 3.05556516,\n",
       "       2.5471746 , 2.81675393, 3.67329958, 4.23799648, 4.0981819 ,\n",
       "       3.3564357 , 3.12074081, 2.60956867, 2.85181614, 2.54774968,\n",
       "       3.95057889, 2.55681751, 4.80553289, 2.8177981 , 2.43602489,\n",
       "       2.71789512, 3.47695734, 2.54774968, 2.11146103, 4.44381824,\n",
       "       2.68248599, 2.22993692, 2.46525801, 2.65590085, 2.80038679,\n",
       "       4.11942966, 3.45379742, 3.16307632, 3.69754198, 2.59955282,\n",
       "       3.78670476, 2.51855825, 3.99043054, 2.56319481, 2.2367297 ,\n",
       "       3.19308304, 3.04517552, 4.0110492 , 2.48511529, 3.21955794,\n",
       "       2.22634006, 2.37424758, 3.48825695, 2.99555172, 2.33731449,\n",
       "       3.63619207, 2.96373945, 3.24539271, 2.79277861, 2.39328957,\n",
       "       2.54774968, 3.43475543, 3.51961308, 1.96732564, 2.2918895 ,\n",
       "       3.07528896, 2.38250013, 3.37935542, 3.76146074, 2.70112817,\n",
       "       2.91043921, 2.56455831, 3.15255308, 1.91135056, 2.07201354,\n",
       "       3.05461628, 2.52127478, 3.40810525, 3.37280284, 2.26592113,\n",
       "       3.49620062, 2.9112545 , 3.15292688, 3.71645038, 2.8308626 ,\n",
       "       2.16438747, 2.71110234, 2.22993692, 3.70008324, 2.855413  ,\n",
       "       3.36988778, 3.17386577, 2.73135942, 2.42927379, 2.58454918,\n",
       "       3.25198698, 2.96373945, 2.53760024, 3.65099284, 3.08058465,\n",
       "       3.03376874, 3.05349299, 3.81438718, 2.75387934, 2.71999489,\n",
       "       3.40728997, 4.10453319, 2.54774968, 2.97181671, 2.80568248,\n",
       "       2.99972366, 3.52576585, 3.7520608 , 2.74368821, 3.37935542,\n",
       "       2.81942878, 2.6819109 , 1.94810837, 2.27481369, 3.02551676,\n",
       "       3.60615775, 4.00553655, 2.37424758, 2.62942595, 1.71201368,\n",
       "       3.9057714 , 2.22993692, 3.23877521, 2.94666363, 2.56343502,\n",
       "       4.2527756 , 3.8075944 , 3.16307632, 3.82341333, 3.25296345,\n",
       "       3.48102268, 4.09814022, 2.98957422, 2.72189179, 2.7638535 ,\n",
       "       3.09168297, 2.7013527 , 3.38145519, 3.04250067, 3.03570788,\n",
       "       3.09554604, 2.80985443, 3.01666589, 2.09241904, 1.68145875,\n",
       "       2.93821257, 2.60956867, 3.90980976, 2.80056207, 3.44744613,\n",
       "       2.53760024, 2.01006096, 3.63466738, 4.0416586 , 3.09168297,\n",
       "       3.84397842, 2.65607613, 1.64646423, 3.36163959, 3.54284167,\n",
       "       2.88334755, 2.90222835, 2.72387262, 3.0896108 , 3.09712707,\n",
       "       2.09241904, 3.68874471, 3.46308978, 2.39328957, 3.39839741,\n",
       "       2.22993692, 2.74386349, 2.59222664, 2.53760024, 3.3005942 ,\n",
       "       2.90721615, 2.06241232, 4.07159604, 3.13724155, 2.80568248,\n",
       "       2.97371361, 2.3740723 , 2.98278144, 2.25577169, 3.59733448,\n",
       "       2.70017929, 4.48504804, 3.16270253, 2.64555289, 3.00389561,\n",
       "       2.65607613, 2.3537085 , 3.09073409, 3.05556516, 3.19118615,\n",
       "       2.79295389, 3.55519749, 2.99989894, 2.22993692, 2.59070196,\n",
       "       3.48088908, 2.91723199, 3.10537526, 2.88334755, 2.96373945,\n",
       "       2.47218438, 3.19780365, 3.09150769, 2.74386349, 3.64424174,\n",
       "       4.16818416, 2.98278144, 4.35291878, 2.80038679, 3.87131029,\n",
       "       3.06489932, 2.58051083, 3.06567292, 3.43243869, 3.09748519,\n",
       "       3.15268668, 2.51855825, 2.32774013, 2.61995832, 3.37049046,\n",
       "       2.47432584, 2.32787372, 3.95237415, 2.45524216, 1.94810837,\n",
       "       2.93417422, 1.91827693, 2.77292133, 4.03232456, 3.61079878,\n",
       "       2.6034159 , 2.40965672, 2.77292133, 2.6878884 , 3.10767632,\n",
       "       2.58051083, 2.61609524, 2.51855825, 2.69056325, 3.26460999,\n",
       "       4.03068952, 2.80038679, 4.47702089, 3.16982742, 2.89238778,\n",
       "       2.94737231, 2.51838297, 3.93690142, 2.98990547, 3.78729552,\n",
       "       3.35226376, 2.28246355])"
      ]
     },
     "execution_count": 66,
     "metadata": {},
     "output_type": "execute_result"
    }
   ],
   "source": [
    "pred3"
   ]
  },
  {
   "cell_type": "code",
   "execution_count": 67,
   "metadata": {
    "colab": {
     "base_uri": "https://localhost:8080/"
    },
    "id": "uxmOPxvz7-KZ",
    "outputId": "eb4fa345-9cf2-4c43-d5fa-a4782dcde97a"
   },
   "outputs": [
    {
     "name": "stdout",
     "output_type": "stream",
     "text": [
      "Accuracy of the Ridge Regression model comes to be: \n",
      " \n",
      "0.1409064985677232\n"
     ]
    }
   ],
   "source": [
    "print(\"Accuracy of the Ridge Regression model comes to be: \\n \") \n",
    "print(reg3.score(x_train,y_train))"
   ]
  },
  {
   "cell_type": "markdown",
   "metadata": {
    "id": "HAdboImGH5Ae"
   },
   "source": [
    "## Performance Evaluation"
   ]
  },
  {
   "cell_type": "code",
   "execution_count": 68,
   "metadata": {
    "colab": {
     "base_uri": "https://localhost:8080/"
    },
    "id": "Bp8kPK4IH8V3",
    "outputId": "d5224bfd-5ecc-4fb7-f5ba-74ffbf44c6c0"
   },
   "outputs": [
    {
     "name": "stdout",
     "output_type": "stream",
     "text": [
      "Model\t\t\t RootMeanSquareError \t\t Accuracy of the model\n",
      "Decision Tree Regressor\t\t 2.1470 \t \t\t 0.7249\n",
      "Random Forest Regressor\t\t 1.8260 \t \t\t 0.6488\n",
      "Ridge Regression\t\t 1.6193 \t \t\t 0.1409\n"
     ]
    }
   ],
   "source": [
    "import numpy as np\n",
    "from sklearn.metrics import mean_squared_error\n",
    "print(\"Model\\t\\t\\t RootMeanSquareError \\t\\t Accuracy of the model\") \n",
    "print(\"\"\"Decision Tree Regressor\\t\\t {:.4f} \\t \\t\\t {:.4f}\"\"\".format(  np.sqrt(mean_squared_error(y_test, pred1)), reg1.score(x_train,y_train)))\n",
    "print(\"\"\"Random Forest Regressor\\t\\t {:.4f} \\t \\t\\t {:.4f}\"\"\".format(  np.sqrt(mean_squared_error(y_test, pred2)), reg2.score(x_train,y_train)))\n",
    "print(\"\"\"Ridge Regression\\t\\t {:.4f} \\t \\t\\t {:.4f}\"\"\".format(  np.sqrt(mean_squared_error(y_test, pred3)), reg3.score(x_train,y_train)))"
   ]
  },
  {
   "cell_type": "markdown",
   "metadata": {
    "id": "GCJYP8u9Jhda"
   },
   "source": [
    "## Conclusion:\n",
    "Decision tree regressor has more accuracy when compared to random forest regressor and Ridge Regression."
   ]
  },
  {
   "cell_type": "code",
   "execution_count": null,
   "metadata": {},
   "outputs": [],
   "source": []
  },
  {
   "cell_type": "code",
   "execution_count": null,
   "metadata": {},
   "outputs": [],
   "source": []
  }
 ],
 "metadata": {
  "colab": {
   "collapsed_sections": [],
   "name": "stress_level_prediction.ipynb",
   "provenance": []
  },
  "kernelspec": {
   "display_name": "Python 3 (ipykernel)",
   "language": "python",
   "name": "python3"
  },
  "language_info": {
   "codemirror_mode": {
    "name": "ipython",
    "version": 3
   },
   "file_extension": ".py",
   "mimetype": "text/x-python",
   "name": "python",
   "nbconvert_exporter": "python",
   "pygments_lexer": "ipython3",
   "version": "3.9.8"
  }
 },
 "nbformat": 4,
 "nbformat_minor": 4
}
